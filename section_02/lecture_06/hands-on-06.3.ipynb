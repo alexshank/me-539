{
 "cells": [
  {
   "cell_type": "code",
   "execution_count": null,
   "metadata": {},
   "outputs": [],
   "source": [
    "# Import some basic libraries\n",
    "import numpy as np\n",
    "import matplotlib.pyplot as plt\n",
    "%matplotlib inline\n",
    "import seaborn as sns\n",
    "sns.set_context('paper')"
   ]
  },
  {
   "cell_type": "markdown",
   "metadata": {},
   "source": [
    "# Hands-On Activity 6.3 The Multivariate Normal - Marginalization\n",
    "\n",
    "## Objectives\n",
    "\n",
    "+ To demonstrate marginalization with a multivariate normal.\n",
    "\n",
    "## The multivariate mormal - Marginalization\n",
    "\n",
    "Consider the $N$-dimensional multivariate normal:\n",
    "$$\n",
    "\\mathbf{X} \\sim N\\left(\\boldsymbol{\\mu}, \\boldsymbol{\\Sigma}\\right),\n",
    "$$\n",
    "where $\\boldsymbol{\\mu}$ is a $N$-dimensional vector, $\\boldsymbol{\\Sigma}$ is a *positive-definite matrix*.\n",
    "In the lecture, we said that if you consider the marginal PDF of a component of $\\mathbf{X}$, say $X_1$, then it will follow a Gaussian with mean $\\mu_1$ and variance $\\Sigma_{11}$.\n",
    "Let's demonstrate this by sampling in the random vector $\\mathbf{X}$ and just looking at the histogram of its $X_1$ component.\n",
    "Here is how:"
   ]
  },
  {
   "cell_type": "code",
   "execution_count": null,
   "metadata": {},
   "outputs": [],
   "source": [
    "import scipy.stats as st\n",
    "# The mean vector\n",
    "mu = [1.0, 2.0]\n",
    "# The covariance matrix\n",
    "Sigma = np.array([[2.0, 0.9],\n",
    "                   [0.9, 4.0]])\n",
    "# The multivariate normal random vector\n",
    "X = st.multivariate_normal(mean=mu, cov=Sigma)\n",
    "# The number of samples to take for the histogram\n",
    "num_samples = 10000\n",
    "# The samples\n",
    "x_samples = X.rvs(size=num_samples)\n",
    "# Now, just take the X1 components of these samples:\n",
    "x1_samples = x_samples[:, 0]\n",
    "# And draw their histogram\n",
    "fig, ax = plt.subplots(dpi=150)\n",
    "ax.hist(x1_samples, density=True, bins=100, alpha=0.5, label='Histogram of $X_1$ samples')\n",
    "# Compare to the theoretical marginal with mean:\n",
    "mu1 = mu[0]\n",
    "# And variance:\n",
    "Sigma11 = Sigma[0, 0]\n",
    "X1_theory = st.norm(loc=mu1, scale=np.sqrt(Sigma11))\n",
    "x1s = np.linspace(x1_samples.min(), x1_samples.max(), 100)\n",
    "ax.plot(x1s, X1_theory.pdf(x1s), label='Theoretical marginal')\n",
    "ax.set_xlabel('$x_1$')\n",
    "ax.set_ylabel('$p(x_1)$')\n",
    "plt.legend(loc='best');"
   ]
  },
  {
   "cell_type": "markdown",
   "metadata": {},
   "source": [
    "## Questions \n",
    "\n",
    "+ Expand the code so that you produce the figure that gives you the marginal of the $X_2$ component of $\\mathbf{X}$."
   ]
  }
 ],
 "metadata": {
  "kernelspec": {
   "display_name": "Python 3",
   "language": "python",
   "name": "python3"
  },
  "language_info": {
   "codemirror_mode": {
    "name": "ipython",
    "version": 3
   },
   "file_extension": ".py",
   "mimetype": "text/x-python",
   "name": "python",
   "nbconvert_exporter": "python",
   "pygments_lexer": "ipython3",
   "version": "3.7.7"
  }
 },
 "nbformat": 4,
 "nbformat_minor": 4
}
