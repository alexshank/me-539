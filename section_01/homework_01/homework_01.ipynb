{
 "cells": [
  {
   "cell_type": "markdown",
   "metadata": {},
   "source": [
    "# Homework 1\n",
    "\n",
    "## References\n",
    "\n",
    "+ Lectures 1-2 (inclusive).\n",
    "\n",
    "## Instructions\n",
    "\n",
    "+ Type your name and email in the \"Student details\" section below.\n",
    "+ Develop the code and generate the figures you need to solve the problems using this notebook.\n",
    "+ For the answers that require a mathematical proof or derivation you can either:\n",
    "    \n",
    "    - Type the answer using the built-in latex capabilities. In this case, simply export the notebook as a pdf and upload it on gradescope; or\n",
    "    - You can print the notebook (after you are done with all the code), write your answers by hand, scan, turn your response to a single pdf, and upload on gradescope.\n",
    "\n",
    "+ The total homework points are 100. Please note that the problems are not weighed equally.\n",
    "\n",
    "**Note**: Please match all the pages corresponding to each of the questions when you submit on gradescope."
   ]
  },
  {
   "cell_type": "code",
   "execution_count": 2,
   "metadata": {},
   "outputs": [],
   "source": [
    "%matplotlib inline\n",
    "import matplotlib.pyplot as plt\n",
    "import seaborn as sns\n",
    "sns.set_context('paper')\n",
    "import numpy as np"
   ]
  },
  {
   "cell_type": "markdown",
   "metadata": {},
   "source": [
    "## Student details\n",
    "\n",
    "+ **First Name:** Alex\n",
    "+ **Last Name:** Shank\n",
    "+ **Email:** shank14@purude.edu"
   ]
  },
  {
   "cell_type": "markdown",
   "metadata": {},
   "source": [
    "## Problem 1\n",
    "\n",
    "This exercise demonstrates that probability theory is actually an extension of logic. Assume that you know that ``A implies B\". That is, your prior information is:\n",
    "$$\n",
    "I = \\{A \\implies B\\}.\n",
    "$$\n",
    "Please answer the following questions in the space provided:\n",
    "\n",
    "A. (4 points) $p(AB|I) = p(A|I)$.<br>\n",
    "<br>\n",
    "**Proof:**\n",
    "<br><br>\n",
    "**Note for the remainder of this homework, I will treat $P(A|I)=P(A)$ and $P(B|I)=P(B)$. Essentially, we are acknowledging everything is implicitly in the context of our previous knowledge $I$.**\n",
    "<br><br>\n",
    "<center>\n",
    "$p(B|A) = 1$ is given\n",
    "<br>\n",
    "$p(AB) = p(B|A)p(A)$\n",
    "<br>\n",
    "$p(AB) = 1*p(A)$\n",
    "<br>\n",
    "$p(AB) = p(A)$\n",
    "</center>\n",
    "<br>"
   ]
  },
  {
   "cell_type": "markdown",
   "metadata": {},
   "source": [
    "B. If $p(A|I) = 1$, then $p(B|I) = 1$.\n",
    "<br><br>\n",
    "**Proof:**\n",
    "<br><br>\n",
    "<center>\n",
    "$P(B|A)P(A)=P(A|B)P(B)$\n",
    "<br>\n",
    "$1*1=P(A|B)P(B)$\n",
    "<br>\n",
    "This implies that $P(A|B)=P(B)=1$\n",
    "<br>\n",
    "$P(B)=1$\n",
    "</center>\n",
    "<br>"
   ]
  },
  {
   "cell_type": "markdown",
   "metadata": {},
   "source": [
    "C. If $p(B|I) = 0$, then $p(A|I) = 0$.\n",
    "<br><br>\n",
    "**Proof:**\n",
    "<br><br>\n",
    "Similiar to the above,\n",
    "<br><br>\n",
    "<center>\n",
    "$P(B|A)P(A)=P(A|B)P(B)$\n",
    "<br>\n",
    "$P(B|A)P(A)=P(A|B)*0$\n",
    "<br>\n",
    "$1*P(A)=0$\n",
    "<br>\n",
    "$P(A)=0$\n",
    "</center>\n",
    "<br>"
   ]
  },
  {
   "cell_type": "markdown",
   "metadata": {},
   "source": [
    "D. B and C show that probability theory is consistent with Aristotelian logic. Now, you will discover how it extends it. Show that if B is true, then A becomes more plausible, i.e.\n",
    "$$\n",
    "p(A|BI) \\geq p(A|I).\n",
    "$$\n",
    "<br>\n",
    "**Proof:**\n",
    "<br><br>\n",
    "<center>\n",
    "$P(A|B) \\geq P(A)$\n",
    "<br>\n",
    "$P(A|B) = \\frac{P(B|A)P(A)}{P(B)} \\geq P(A)$\n",
    "<br>\n",
    "$P(A|B) = \\frac{1*P(A)}{P(B)} \\geq P(A)$\n",
    "<br>\n",
    "$\\frac{1}{P(B)} \\geq 1$\n",
    "<br>\n",
    "$1 \\geq P(B)$\n",
    "<br><br>\n",
    "All probabilities under the axiomatic approach are $\\in [0, 1]$, making this statement true."
   ]
  },
  {
   "cell_type": "markdown",
   "metadata": {},
   "source": [
    "E. Give at least two examples of D that apply to various scientific fields. To get you started, here are two examples:\n",
    "\n",
    "- $A$: It is raining. $B$: There are clouds in the sky. Clearly,  $A \\implies B$. $D$ tells us that if there are clouds in the sky, raining becomes more plausible.\n",
    "    \n",
    "- $A$: General relativity. $B$: Light is deflected in the presence of massive bodies. Here  $A \\implies B$. Observing that $B$ is true makes $A$ more plausible.\n",
    "\n",
    "**Answer:**\n",
    "\n",
    "- $A$: Ohm's Law\n",
    "- $B$: The current through a conductor is proportionally related to the voltage across it (the proportionality constant being electrical resistance).\n",
    "<br><br>\n",
    "- $A$: Avagadro's Law\n",
    "- $B$: Two gases with the same volume, temperature, and pressure are made up of the same number of molecules."
   ]
  },
  {
   "cell_type": "markdown",
   "metadata": {},
   "source": [
    "F. Show that if $A$ is false, then $B$ becomes less plausible, i.e.: \n",
    "$$\n",
    "p(B|\\neg AI) \\leq p(B|I).\n",
    "$$\n",
    "<br><br>\n",
    "**Proof:**\n",
    "<br><br>\n",
    "<center>\n",
    "$P(B|\\neg A) \\leq P(B)$\n",
    "<br>\n",
    "$P(B|\\neg A) \\leq P(B|A)P(A)+P(B|\\neg A)P(\\neg A)$\n",
    "<br>\n",
    "$P(B|\\neg A)(1-P(\\neg A)) \\leq P(B|A)P(A)$\n",
    "<br>\n",
    "$P(B|\\neg A)P(A) \\leq P(B|A)P(A)$\n",
    "<br>\n",
    "$P(B|\\neg A) \\leq P(B|A)$\n",
    "<br>\n",
    "$P(B|\\neg A) \\leq 1$\n",
    "<br><br>\n",
    "All probabilities under the axiomatic approach are $\\in [0, 1]$, making this statement true."
   ]
  },
  {
   "cell_type": "markdown",
   "metadata": {},
   "source": [
    "G. Can you think of an example of scientific reasoning that involves F? For example:\n",
    "$A$: It is raining. $B$: There are clouds in the sky. F tells us that if it is not raining, then it is less plausible that there are clouds in the sky.<br><br>\n",
    "**Answer:**\n",
    "<br><br>\n",
    "<center>\n",
    "    The examples from <code>1e</code> can also be used here. A new example would be:\n",
    "</center>\n",
    "<br>\n",
    "$A$: Pascal's Law\n",
    "<br>\n",
    "$B$: Pressure is applied to a fluid, and that pressure is transmitted to all parts of the fluid without loss.\n",
    "<br><br>\n",
    "<center>\n",
    "    If B weren't true, it would be less likely that A is a true logic statement (scientific law).\n",
    "</center>\n",
    "<br>"
   ]
  },
  {
   "cell_type": "markdown",
   "metadata": {},
   "source": [
    "H. Do D and F contradict Karl Popper's [principle of falsification](https://en.wikipedia.org/wiki/Falsifiability), \"A theory in the empirical sciences can never be proven, but it can be falsified, meaning that it can and should be scrutinized by decisive experiments.\"<br><br>\n",
    "**Answer:**\n",
    "<br><br>\n",
    "No, they do not contradict the principle of falsification. Showing B always follows from A is by definition showing that A has not been falsified. In a way, D and F allow us to structure our falsification/experiment strategy.\n",
    "<br><br>\n",
    "\n",
    "---"
   ]
  },
  {
   "cell_type": "markdown",
   "metadata": {},
   "source": [
    "## Problem 2\n",
    "\n",
    "Disclaimer: This example is a modified version of the one found in a 2013 lecture on Bayesian Scientific Computing taught by Prof. Nicholas Zabaras.\n",
    "I am not sure where the original problem is coming from.\n",
    "\n",
    "We are tasked with assessing the usefulness of a tuberculosis test.\n",
    "The prior information I is:\n",
    "\n",
    "> The percentage of the population infected by tuberculosis is 0.4\\%.\n",
    "We have run several experiments and determined that:\n",
    "+ If a tested patient has the disease, then 80\\% of the time the test comes out positive.\n",
    "+ If a tested patient does not have the disease, then 90\\% of the time the test comes out negative.\n",
    "\n",
    "To facilitate your analysis, consider the following logical sentences concerning a patient:\n",
    "\n",
    "> A: The patient is tested and the test is positive.\n",
    "\n",
    "> B: The patient has tuberculosis.\n",
    "\n",
    "A. Find the probability that the patient has tuberculosis (before looking at the result of the test), i.e., $p(B|I)$. This is known as the base rate or the prior probability.<br><br>\n",
    "**Givens:**\n",
    "<br>\n",
    "$P(B) = 0.004$\n",
    "<br>\n",
    "$P(A|B) = 0.80$\n",
    "<br>\n",
    "$P(\\neg A | \\neg B) = 0.90$\n",
    "<br><br>\n",
    "**Answer:**\n",
    "<br>\n",
    "<center>\n",
    "    From the given information, we know that\n",
    "    <br>\n",
    "    $P(B) = 0.004$\n",
    "</center>\n",
    "<br>"
   ]
  },
  {
   "cell_type": "markdown",
   "metadata": {},
   "source": [
    "B. Find the probability that the test is positive given that the patient has tuberculosis, i.e., $p(A|B,I)$.<br>\n",
    "**Answer:**\n",
    "<br>\n",
    "<center>\n",
    "    From the given information, we know that\n",
    "    <br>\n",
    "    $P(A|B) = 0.80$\n",
    "</center>\n",
    "<br><br>"
   ]
  },
  {
   "cell_type": "markdown",
   "metadata": {},
   "source": [
    "C. Find the probability that the test is positive given that the patient does not have tuberculosis, i.e., $p(A|\\neg B, I)$.<br>\n",
    "**Answer:**\n",
    "<br>\n",
    "<center>\n",
    "    From the given information, we know that\n",
    "    <br>\n",
    "    $P(\\neg A|\\neg B) = 0.90$\n",
    "    <br><br>\n",
    "    $P(A|\\neg B) = 1 - P(\\neg A|\\neg B)$\n",
    "    <br>\n",
    "    $P(A|\\neg B) = 1 - 0.90$\n",
    "    <br>\n",
    "    $P(A|\\neg B) = 0.10$\n",
    "</center>\n",
    "<br><br>"
   ]
  },
  {
   "cell_type": "markdown",
   "metadata": {},
   "source": [
    "D. Find the probability that a patient that tested positive has tuberculosis, i.e., $p(B|A,I)$.<br>\n",
    "**Answer:**\n",
    "<br>\n",
    "<center>\n",
    "    $P(B|A) = \\frac{P(A|B)P(B)}{P(A)}$\n",
    "    <br>\n",
    "    $P(B|A) = \\frac{(0.80)(0.004)}{P(A)}$\n",
    "    <br><br>\n",
    "    $P(A) = P(A|B)P(B)+P(A|\\neg B)P(\\neg B)$\n",
    "    <br>\n",
    "    $P(A) = (0.80)(0.004)+(0.10)(1-0.004)$\n",
    "    <br>\n",
    "    $P(A) = 0.1028$\n",
    "    <br><br>\n",
    "    $P(B|A) = \\frac{(0.80)(0.004)}{0.1028}$\n",
    "    <br>\n",
    "    $P(B|A) = 0.0311284047$\n",
    "</center>\n",
    "<br><br>"
   ]
  },
  {
   "cell_type": "markdown",
   "metadata": {},
   "source": [
    "E. Find the probability that a patient that tested negative has tuberculosis, i.e., $p(B|\\neg A, I)$. Does the test change our prior state of knowledge about the patient? Is the test useful?<br>\n",
    "**Answer:**\n",
    "<br>\n",
    "<center>\n",
    "    $P(B|\\neg A) = \\frac{P(\\neg A|B)P(B)}{P(\\neg A)}$\n",
    "    <br>\n",
    "    $P(B|\\neg A) = \\frac{P(\\neg A|B)(0.004)}{(1-0.1028)}$\n",
    "    <br><br>\n",
    "    $P(\\neg A|B) = 1 - P(A|B)$\n",
    "    <br>\n",
    "    $P(\\neg A|B) = 1 - 0.80$\n",
    "    <br>\n",
    "    $P(\\neg A|B) = 0.20$\n",
    "    <br><br>\n",
    "    $P(B|\\neg A) = \\frac{(0.20)(0.004)}{0.8972}$\n",
    "    <br>\n",
    "    $P(B|\\neg A) = 0.000891663$\n",
    "    <br><br>\n",
    "    <b><i>Yes, our prior state of knowledge about the patient changes based on the test result. A positive test is probabilistically more likely to be accurate than inaccurate. That is why the test is useful - the probability of a positive test is greater if the patient actually has tuberculosis.</i></b>\n",
    "</center>\n",
    "<br><br>"
   ]
  },
  {
   "cell_type": "markdown",
   "metadata": {},
   "source": [
    "F. What would a good test look like? Find values for \n",
    "$$\n",
    "p(A|B,I)= p(\\text{test is positive} |\\text{has tuberculosis},I),\n",
    "$$\n",
    "and\n",
    "$$\n",
    "p(A| \\neg B, I) = p(\\text{test is positive}|\\text{does not have tuberculosis}, I),\n",
    "$$\n",
    "so that\n",
    "$$\n",
    "p(B|A, I) = p(\\text{has tuberculosis}|\\text{test is positive}, I) = 0.99.\n",
    "$$\n",
    "There are more than one solutions. How would you pick a good one? Thinking in this way can help you set goals if you work in R\\&D. If you have time, try to figure out whether or not there exists such an accurate test for tuberculosis<br><br>\n",
    "**Answer:**\n",
    "<br>\n",
    "<center>\n",
    "    Let $P(A|B) = x$\n",
    "    <br>\n",
    "    Let $P(A|\\neg B) = y$\n",
    "    <br>\n",
    "    Given $P(B)=0.004$\n",
    "    <br>\n",
    "    Want $P(B|A) = 0.99$\n",
    "    <br><br>\n",
    "    $P(B|A) = \\frac{P(A|B)P(B)}{P(A)}$\n",
    "    <br>\n",
    "    $0.99 = \\frac{(x)(0.004)}{P(A)}$\n",
    "    <br><br>\n",
    "    $P(A) = P(A|B)P(B)+P(A|\\neg B)P(\\neg B)$\n",
    "    <br>\n",
    "    $P(A) = (x)P(B)+(y)P(\\neg B)$\n",
    "    <br>\n",
    "    $P(A) = (x)P(B)+(y)(1-P(B))$\n",
    "    <br>\n",
    "    $P(A) = (x)P(B)+(y)-(y)P(B)$\n",
    "    <br><br>\n",
    "    $0.99 = \\frac{(x)(0.004)}{P(A)}$\n",
    "    <br>\n",
    "    $0.99 = \\frac{(x)(0.004)}{(x)P(B)+(y)-(y)P(B)}$\n",
    "    <br>\n",
    "    $y[(0.99)(0.004)-0.99] = x[(0.004)(0.99)-(0.004)]$\n",
    "    <br>\n",
    "    $y = (0.0000405663)x$\n",
    "    <br><br>\n",
    "    <b>Choosing a combination of $x=P(A|B)$ and $y=P(A|\\neg B)$ on the following graph ($x, y \\in (0,1]$) will ensure that $P(B|A)=0.99$.</b>\n",
    "</center>\n",
    "<br><br>"
   ]
  },
  {
   "cell_type": "code",
   "execution_count": 6,
   "metadata": {},
   "outputs": [
    {
     "data": {
      "image/png": "[encoded data removed]",
      "text/plain": [
       "<Figure size 432x288 with 1 Axes>"
      ]
     },
     "metadata": {
      "needs_background": "light"
     },
     "output_type": "display_data"
    }
   ],
   "source": [
    "# Data for plotting\n",
    "pA_B = np.arange(0.0, 0.25, 0.001)\n",
    "pA_notB = 0.0000405663*pA_B\n",
    "\n",
    "fig, ax = plt.subplots()\n",
    "ax.plot(pA_B, pA_notB)\n",
    "\n",
    "ax.set(xlabel='P(A|B)', ylabel='P(A|not B)',\n",
    "       title='Possible choices for effective tuberculosis tests')\n",
    "ax.grid()\n",
    "\n",
    "fig.savefig(\"effective_tests.png\")\n",
    "plt.show()\n"
   ]
  }
 ],
 "metadata": {
  "kernelspec": {
   "display_name": "Python 3",
   "language": "python",
   "name": "python3"
  },
  "language_info": {
   "codemirror_mode": {
    "name": "ipython",
    "version": 3
   },
   "file_extension": ".py",
   "mimetype": "text/x-python",
   "name": "python",
   "nbconvert_exporter": "python",
   "pygments_lexer": "ipython3",
   "version": "3.8.8"
  }
 },
 "nbformat": 4,
 "nbformat_minor": 4
}
