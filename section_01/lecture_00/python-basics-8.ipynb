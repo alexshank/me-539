{
 "cells": [
  {
   "cell_type": "markdown",
   "metadata": {},
   "source": [
    "# Python Basics 8: Classes\n",
    "\n",
    "The concept of ``class`` allows you to organize your code into objects that have data attributes and functionality.\n",
    "First, let me just mention that we have already used a class: the ``list``.\n",
    "Here we are going to learn how to make our own classes.\n",
    "The syntax for making a class is as follows:\n",
    "```\n",
    "class ClassName(object):\n",
    "    \"\"\"\n",
    "    A docstring that explains what the class does.\n",
    "    \"\"\"\n",
    "\n",
    "    def __init__(self, arg1, arg2, ...):\n",
    "        \"\"\"\n",
    "        A special function that initializes objects of the class.\n",
    "        \"\"\"\n",
    "    \n",
    "    def other_funcs(self, ...):\n",
    "        \"\"\"\n",
    "        A function.\n",
    "        \"\"\"\n",
    "```"
   ]
  },
  {
   "cell_type": "markdown",
   "metadata": {},
   "source": [
    "I think it is easier to understand what is going on through examples.\n",
    "Let's make a class representing a 3D vector:\n",
    "$$\n",
    "\\vec{r} = x\\hat{i} + y\\hat{j} + z\\hat{k}.\n",
    "$$\n",
    "Initially, it won't do much. But we will give it some functionality as we go."
   ]
  },
  {
   "cell_type": "code",
   "execution_count": null,
   "metadata": {},
   "outputs": [],
   "source": [
    "class Vector(object):\n",
    "    \"\"\"\n",
    "    Represents a 3D vector.\n",
    "    \n",
    "    \"\"\"\n",
    "    \n",
    "    def __init__(self, x, y, z):\n",
    "        \"\"\"\n",
    "        Initializes the class.\n",
    "        \n",
    "        x, y, and z are the i, j, and k cordinates.\n",
    "        \"\"\"\n",
    "        self.x = x\n",
    "        self.y = y\n",
    "        self.z = z"
   ]
  },
  {
   "cell_type": "markdown",
   "metadata": {},
   "source": [
    "Let me first show you how the class can be used and what it does.\n",
    "Then I will try to explain what ``__init__`` does:"
   ]
  },
  {
   "cell_type": "code",
   "execution_count": null,
   "metadata": {},
   "outputs": [],
   "source": [
    "r = Vector(0.5, 1.0, 3.0)"
   ]
  },
  {
   "cell_type": "markdown",
   "metadata": {},
   "source": [
    "We have made a simple vector. Notice that we can access the ``x``, ``y``, ``z`` components like this:"
   ]
  },
  {
   "cell_type": "code",
   "execution_count": null,
   "metadata": {},
   "outputs": [],
   "source": [
    "r.x"
   ]
  },
  {
   "cell_type": "code",
   "execution_count": null,
   "metadata": {},
   "outputs": [],
   "source": [
    "r.y"
   ]
  },
  {
   "cell_type": "code",
   "execution_count": null,
   "metadata": {},
   "outputs": [],
   "source": [
    "r.z"
   ]
  },
  {
   "cell_type": "markdown",
   "metadata": {},
   "source": [
    "Data that you can access like this are called *class attributes*. \n",
    "So, you can inspect the class attributes.\n",
    "You can also change the class attributes like this:"
   ]
  },
  {
   "cell_type": "code",
   "execution_count": null,
   "metadata": {},
   "outputs": [],
   "source": [
    "r.x = 2.0"
   ]
  },
  {
   "cell_type": "code",
   "execution_count": null,
   "metadata": {},
   "outputs": [],
   "source": [
    "r.x"
   ]
  },
  {
   "cell_type": "markdown",
   "metadata": {},
   "source": [
    "Before we add more functionality, notice how the class appears when you ask for help:"
   ]
  },
  {
   "cell_type": "code",
   "execution_count": null,
   "metadata": {},
   "outputs": [],
   "source": [
    "help(Vector)"
   ]
  },
  {
   "cell_type": "markdown",
   "metadata": {},
   "source": [
    "And here is how the class is printed:"
   ]
  },
  {
   "cell_type": "code",
   "execution_count": null,
   "metadata": {},
   "outputs": [],
   "source": [
    "print(r)"
   ]
  },
  {
   "cell_type": "markdown",
   "metadata": {},
   "source": [
    "This is not very nice. To print something nicer, you need to add more functionality to the class. We can do this by implementing a special class function called ``__repr__()``.\n",
    "Here is the new code:"
   ]
  },
  {
   "cell_type": "code",
   "execution_count": null,
   "metadata": {},
   "outputs": [],
   "source": [
    "class Vector(object):\n",
    "    \"\"\"\n",
    "    Represents a 3D vector.\n",
    "    \n",
    "    \"\"\"\n",
    "    \n",
    "    def __init__(self, x, y, z):\n",
    "        \"\"\"\n",
    "        Initializes the class.\n",
    "        \n",
    "        x, y, and z are the i, j, and k cordinates.\n",
    "        \"\"\"\n",
    "        self.x = x\n",
    "        self.y = y\n",
    "        self.z = z\n",
    "        \n",
    "    def __repr__(self):\n",
    "        \"\"\"\n",
    "        Returns a string representation of the class.\n",
    "        \"\"\"\n",
    "        return '{0:1.2f}i + {1:1.2f}j + {2:1.2f}k'.format(self.x, self.y, self.z)"
   ]
  },
  {
   "cell_type": "markdown",
   "metadata": {},
   "source": [
    "Let's recreate the vector and print it:"
   ]
  },
  {
   "cell_type": "code",
   "execution_count": null,
   "metadata": {},
   "outputs": [],
   "source": [
    "r = Vector(0.5, 1.0, 3.0)\n",
    "print(r)"
   ]
  },
  {
   "cell_type": "markdown",
   "metadata": {},
   "source": [
    "Okay, better. \n",
    "\n",
    "What else would you like to do with vectors?\n",
    "Well, you would probably like to:\n",
    "+ multiply a vector with a scalar\n",
    "+ add to vectors together\n",
    "+ find the dot product of two vectors\n",
    "+ find the magnitude of a vector\n",
    "+ find the angle between two vectors\n",
    "+ find the outer product between two vectors\n",
    "+ normalize a vector\n",
    "+ find the projection of a vector in a given direction\n",
    "Let's add all this functionality to the ``Vector`` gradually so that you start get a feeling of what is going on.\n",
    "Let's start with scalar multiplication."
   ]
  },
  {
   "cell_type": "code",
   "execution_count": null,
   "metadata": {},
   "outputs": [],
   "source": [
    "class Vector(object):\n",
    "    \"\"\"\n",
    "    Represents a 3D vector.\n",
    "    \n",
    "    \"\"\"\n",
    "    \n",
    "    def __init__(self, x, y, z):\n",
    "        \"\"\"\n",
    "        Initializes the class.\n",
    "        \n",
    "        x, y, and z are the i, j, and k cordinates.\n",
    "        \"\"\"\n",
    "        self.x = x\n",
    "        self.y = y\n",
    "        self.z = z\n",
    "        \n",
    "    def __repr__(self):\n",
    "        \"\"\"\n",
    "        Returns a string representation of the class.\n",
    "        \"\"\"\n",
    "        return '{0:1.2f}i + {1:1.2f}j + {2:1.2f}k'.format(self.x, self.y, self.z)\n",
    "    \n",
    "    def multiply(self, mu):\n",
    "        \"\"\"\n",
    "        Multiply self with the scalar mu.\n",
    "        \n",
    "        Returns a new vector.\n",
    "        \"\"\"\n",
    "        # Make sure mu is a float\n",
    "        assert isinstance(mu, float)\n",
    "        return Vector(mu * self.x, mu * self.y, mu * self.z)"
   ]
  },
  {
   "cell_type": "markdown",
   "metadata": {},
   "source": [
    "Let's try it out:"
   ]
  },
  {
   "cell_type": "code",
   "execution_count": null,
   "metadata": {},
   "outputs": [],
   "source": [
    "r1 = Vector(0.5, 1.0, 3.0)\n",
    "r2 = r1.multiply(2.0)\n",
    "print('r1 = ', r1)\n",
    "print('r2 = 2 * r1 = ', r2)"
   ]
  },
  {
   "cell_type": "markdown",
   "metadata": {},
   "source": [
    "Now, let's explain what is going on inside the class function ``multiply()``.\n",
    "First notice the definition of the function:\n",
    "```\n",
    "    def multiply(self, mu):\n",
    "```\n",
    "The ``self`` argument is a special argument that **is required for all class functions**. It is a short of handle that an instance of the class object can use to refer to itself.\n",
    "Inside the body of the function we see the expression:\n",
    "```\n",
    "        return Vector(mu * self.x, mu * self.y, mu * self.z)\n",
    "```\n",
    "What this does is it creates a new ``Vector`` object with x, y, z coordinates given by the x, y, z coordinates of the object calling ``multiply`` (which is referred to by ``self``) and it returns the newly created vector.\n",
    "More specifically, when we do ``mu * self.x`` we mean \"multiply ``mu`` with the ``x`` that you can find in the object that is calling multiply, i.e., ``self``.\n",
    "\n",
    "I understand that this may not be the best possible explanation of these concepts, but we are not going to spend an entire lecture on this.\n",
    "Hopefully, you will pick this up through more examples and throughout the class.\n",
    "But even if you don't, it's not vitally important to be able to create your own classes in order to understand the data science content of the course.\n",
    "We will mostly be users of clases. Classes that implement numerical arrays, data frames, plots, data science methods.\n",
    "It is considerably easier to understand how to use clases.\n",
    "If you do want to learn more about classes, however, I suggest that you read this chapter [Think Python Chapter 15](https://greenteapress.com/thinkpython/html/thinkpython016.html).\n",
    "\n",
    "Let's now add more functionality to the class.\n",
    "I will add a dot product, the magnitude, and the cross product.\n",
    "Study the code below line by line."
   ]
  },
  {
   "cell_type": "code",
   "execution_count": null,
   "metadata": {},
   "outputs": [],
   "source": [
    "import math\n",
    "\n",
    "class Vector(object):\n",
    "    \"\"\"\n",
    "    Represents a 3D vector.\n",
    "    \n",
    "    \"\"\"\n",
    "    \n",
    "    def __init__(self, x, y, z):\n",
    "        \"\"\"\n",
    "        Initializes the class.\n",
    "        \n",
    "        x, y, and z are the i, j, and k cordinates.\n",
    "        \"\"\"\n",
    "        self.x = x\n",
    "        self.y = y\n",
    "        self.z = z\n",
    "        \n",
    "    def __repr__(self):\n",
    "        \"\"\"\n",
    "        Returns a string representation of the class.\n",
    "        \"\"\"\n",
    "        return '{0:1.2f}i + {1:1.2f}j + {2:1.2f}k'.format(self.x, self.y, self.z)\n",
    "    \n",
    "    def multiply(self, mu):\n",
    "        \"\"\"\n",
    "        Multiply self with the scalar mu.\n",
    "        \n",
    "        Returns a new vector.\n",
    "        \"\"\"\n",
    "        # Make sure mu is a float\n",
    "        assert isinstance(mu, float)\n",
    "        return Vector(mu * self.x, mu * self.y, mu * self.z)\n",
    "    \n",
    "    # The new parts:\n",
    "    \n",
    "    def dot(self, r):\n",
    "        \"\"\"\n",
    "        Return the dot product of self with r.\n",
    "        \"\"\"\n",
    "        return self.x * r.x + self.y * r.y + self.z * r.z\n",
    "    \n",
    "    def magnitude(self):\n",
    "        \"\"\"\n",
    "        Return the magnitude of self.\n",
    "        \"\"\"\n",
    "        # The magnitude is just the square root of the dot\n",
    "        # product of self with self:\n",
    "        return math.sqrt(self.dot(self))\n",
    "    \n",
    "    def cross(self, r):\n",
    "        \"\"\"\n",
    "        Return the cross product of self with r.\n",
    "        \"\"\"\n",
    "        return Vector(self.y * r.z - self.z * r.y,\n",
    "                     -(self.x * r.z - self.z * r.x),\n",
    "                      self.x * r.y - self.y * r.x)\n",
    "    \n",
    "    def normalize(self):\n",
    "        \"\"\"\n",
    "        Returns a unit vevtor in the direction of self.\n",
    "        \"\"\"\n",
    "        return self.multiply(1.0 / self.magnitude())"
   ]
  },
  {
   "cell_type": "code",
   "execution_count": null,
   "metadata": {},
   "outputs": [],
   "source": [
    "r1 = Vector(0.5, 1.0, 3.0)\n",
    "r2 = Vector(2.3, 2.0, -3.0)"
   ]
  },
  {
   "cell_type": "code",
   "execution_count": null,
   "metadata": {},
   "outputs": [],
   "source": [
    "r1.dot(r2)"
   ]
  },
  {
   "cell_type": "code",
   "execution_count": null,
   "metadata": {},
   "outputs": [],
   "source": [
    "r3 = r1.cross(r2)\n",
    "print(r3)"
   ]
  },
  {
   "cell_type": "code",
   "execution_count": null,
   "metadata": {},
   "outputs": [],
   "source": [
    "r3.dot(r1) # the cross product is orthogonal to the vectors you cross:"
   ]
  },
  {
   "cell_type": "code",
   "execution_count": null,
   "metadata": {},
   "outputs": [],
   "source": [
    "r1.magnitude()"
   ]
  },
  {
   "cell_type": "code",
   "execution_count": null,
   "metadata": {},
   "outputs": [],
   "source": [
    "u = r1.normalize()\n",
    "print(u)"
   ]
  },
  {
   "cell_type": "code",
   "execution_count": null,
   "metadata": {},
   "outputs": [],
   "source": [
    "u.magnitude()"
   ]
  },
  {
   "cell_type": "markdown",
   "metadata": {},
   "source": [
    "### Questions\n",
    "\n",
    "+ In the code block below, use the function of the class ``Vector`` to compute the angle between ``r1`` and ``r2``."
   ]
  },
  {
   "cell_type": "code",
   "execution_count": null,
   "metadata": {},
   "outputs": [],
   "source": [
    "# Your code here"
   ]
  },
  {
   "cell_type": "markdown",
   "metadata": {},
   "source": [
    "+ In the redefinition of the class ``Vector`` below, add a function to that calculates the angle between the calling vector and another vector. Remember that the formula is:\n",
    "$$\n",
    "\\theta = \\operatorname{acos}\\left(\\frac{\\vec{r}_1 \\cdot \\vec{r}_2}{|\\vec{r}_1||\\vec{r}_2|}\\right).\n",
    "$$"
   ]
  },
  {
   "cell_type": "code",
   "execution_count": null,
   "metadata": {},
   "outputs": [],
   "source": [
    "class Vector(object):\n",
    "    \"\"\"\n",
    "    Represents a 3D vector.\n",
    "    \n",
    "    \"\"\"\n",
    "    \n",
    "    def __init__(self, x, y, z):\n",
    "        \"\"\"\n",
    "        Initializes the class.\n",
    "        \n",
    "        x, y, and z are the i, j, and k cordinates.\n",
    "        \"\"\"\n",
    "        self.x = x\n",
    "        self.y = y\n",
    "        self.z = z\n",
    "        \n",
    "    def __repr__(self):\n",
    "        \"\"\"\n",
    "        Returns a string representation of the class.\n",
    "        \"\"\"\n",
    "        return '{0:1.2f}i + {1:1.2f}j + {2:1.2f}k'.format(self.x, self.y, self.z)\n",
    "    \n",
    "    def multiply(self, mu):\n",
    "        \"\"\"\n",
    "        Multiply self with the scalar mu.\n",
    "        \n",
    "        Returns a new vector.\n",
    "        \"\"\"\n",
    "        # Make sure mu is a float\n",
    "        assert isinstance(mu, float)\n",
    "        return Vector(mu * self.x, mu * self.y, mu * self.z)\n",
    "    \n",
    "    # The new parts:\n",
    "    \n",
    "    def dot(self, r):\n",
    "        \"\"\"\n",
    "        Return the dot product of self with r.\n",
    "        \"\"\"\n",
    "        return self.x * r.x + self.y * r.y + self.z * r.z\n",
    "    \n",
    "    def magnitude(self):\n",
    "        \"\"\"\n",
    "        Return the magnitude of self.\n",
    "        \"\"\"\n",
    "        # The magnitude is just the square root of the dot\n",
    "        # product of self with self:\n",
    "        return math.sqrt(self.dot(self))\n",
    "    \n",
    "    def cross(self, r):\n",
    "        \"\"\"\n",
    "        Return the cross product of self with r.\n",
    "        \"\"\"\n",
    "        return Vector(self.y * r.z - self.z * r.y,\n",
    "                     -(self.x * r.z - self.z * r.x),\n",
    "                      self.x * r.y - self.y * r.x)\n",
    "    \n",
    "    def normalize(self):\n",
    "        \"\"\"\n",
    "        Returns a unit vevtor in the direction of self.\n",
    "        \"\"\"\n",
    "        return self.multiply(1.0 / self.magnitude())\n",
    "    \n",
    "    # Your code here:\n",
    "    def angle(self, r):\n",
    "        \"\"\"\n",
    "        Return the angle (in radians) between self and r.\n",
    "        \"\"\"\n",
    "        # Your code here"
   ]
  },
  {
   "cell_type": "code",
   "execution_count": null,
   "metadata": {},
   "outputs": [],
   "source": [
    "# Test your code here:\n",
    "r1 = Vector(0.5, 1.0, 3.0)\n",
    "r2 = Vector(2.3, 2.0, -3.0)\n",
    "r1.angle(r2)"
   ]
  },
  {
   "cell_type": "markdown",
   "metadata": {},
   "source": [
    "+ Now that you wrote your first function with a bit of help, see if you can write one more on your own. Create a function that gives you the projection of a vector in the direction of ``self``.\n",
    "Say the ``self`` corresponds to the vector $\\vec{r}_1$ and the other vector is $\\vec{r}_2$.\n",
    "The formula that gives you the projection is:\n",
    "$$\n",
    "\\operatorname{Pr}_{\\vec{r}_1}(\\vec{r}_2) := \\left(\\vec{r}_1\\cdot \\vec{r_2}\\right)\\frac{\\vec{r}_1}{|\\vec{r}_1|}. \n",
    "$$\n",
    "Call this function ``project``."
   ]
  },
  {
   "cell_type": "code",
   "execution_count": null,
   "metadata": {},
   "outputs": [],
   "source": [
    "# Copy-paste and add functionality to the Vector class here"
   ]
  },
  {
   "cell_type": "code",
   "execution_count": null,
   "metadata": {},
   "outputs": [],
   "source": [
    "# Try your code here\n",
    "r1 = Vector(0.5, 1.0, 3.0)\n",
    "r2 = Vector(2.3, 2.0, -3.0)\n",
    "r1.project(r2)"
   ]
  }
 ],
 "metadata": {
  "kernelspec": {
   "display_name": "Python 3",
   "language": "python",
   "name": "python3"
  },
  "language_info": {
   "codemirror_mode": {
    "name": "ipython",
    "version": 3
   },
   "file_extension": ".py",
   "mimetype": "text/x-python",
   "name": "python",
   "nbconvert_exporter": "python",
   "pygments_lexer": "ipython3",
   "version": "3.7.7"
  }
 },
 "nbformat": 4,
 "nbformat_minor": 4
}
