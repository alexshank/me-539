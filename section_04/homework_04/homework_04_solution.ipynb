{
 "cells": [
  {
   "cell_type": "markdown",
   "metadata": {
    "id": "qgntvWmrOv8x"
   },
   "source": [
    "# Homework 4\n",
    "\n",
    "**Due 10/6/2020 on gradescope.**\n",
    "\n",
    "## References\n",
    "\n",
    "+ Lectures 11-12 (inclusive).\n",
    "\n",
    "## Instructions\n",
    "\n",
    "+ Type your name and email in the \"Student details\" section below.\n",
    "+ Develop the code and generate the figures you need to solve the problems using this notebook.\n",
    "+ For the answers that require a mathematical proof or derivation you can either:\n",
    "    \n",
    "    - Type the answer using the built-in latex capabilities. In this case, simply export the notebook as a pdf and upload it on gradescope; or\n",
    "    - You can print the notebook (after you are done with all the code), write your answers by hand, scan, turn your response to a single pdf, and upload on gradescope.\n",
    "\n",
    "+ The total homework points are 100. Please note that the problems are not weighed equally.\n",
    "\n",
    "**Note**: Please match all the pages corresponding to each of the questions when you submit on gradescope. "
   ]
  },
  {
   "cell_type": "markdown",
   "metadata": {
    "id": "bSDIptVKOv85"
   },
   "source": [
    "## Student details\n",
    "\n",
    "+ **First Name:**\n",
    "+ **Last Name:**\n",
    "+ **Email:**"
   ]
  },
  {
   "cell_type": "code",
   "execution_count": 1,
   "metadata": {
    "executionInfo": {
     "elapsed": 1393,
     "status": "ok",
     "timestamp": 1633479306982,
     "user": {
      "displayName": "Andrew Cline",
      "photoUrl": "https://lh3.googleusercontent.com/a/default-user=s64",
      "userId": "01039730809548851252"
     },
     "user_tz": 240
    },
    "id": "oCV4E6tSOv87"
   },
   "outputs": [],
   "source": [
    "%matplotlib inline\n",
    "import matplotlib.pyplot as plt\n",
    "import seaborn as sns\n",
    "sns.set_context('paper')\n",
    "import numpy as np"
   ]
  },
  {
   "cell_type": "markdown",
   "metadata": {
    "id": "HN40EcRQOv8-"
   },
   "source": [
    "## Problem 1\n",
    "\n",
    "The [San Andreas fault](https://en.wikipedia.org/wiki/San_Andreas_Fault) extends through California forming the boundary between the Pacific and the North American tectonic plates.\n",
    "It has caused some of the major earthquakes on Earth.\n",
    "We are going to focus on Southern California and we would like to assess the probability of a major earthquake, defined as an earthquake of magnitude 6.5 or greater, during the next ten years."
   ]
  },
  {
   "cell_type": "markdown",
   "metadata": {
    "id": "DP-J9sgiOv8_"
   },
   "source": [
    "A. The first thing we are going to do is go over a [database of past earthquakes](https://scedc.caltech.edu/significant/chron-index.html) that have occured in Southern California and collect the relevant data. We are going to start at 1900 because data before that time may are unreliable.\n",
    "Go over each decade and count the occurence of a major earthquake (i.e., count the number of organge and red colors in each decade). We have done this for you."
   ]
  },
  {
   "cell_type": "code",
   "execution_count": 2,
   "metadata": {
    "colab": {
     "base_uri": "https://localhost:8080/",
     "height": 280
    },
    "executionInfo": {
     "elapsed": 503,
     "status": "ok",
     "timestamp": 1633479307255,
     "user": {
      "displayName": "Andrew Cline",
      "photoUrl": "https://lh3.googleusercontent.com/a/default-user=s64",
      "userId": "01039730809548851252"
     },
     "user_tz": 240
    },
    "id": "42G1MJftOv9A",
    "outputId": "f21bdd75-3ed5-40cd-9d61-13e9e5f81c52"
   },
   "outputs": [
    {
     "data": {
      "image/png": "[encoded data removed]",
      "text/plain": [
       "<Figure size 432x288 with 1 Axes>"
      ]
     },
     "metadata": {
      "needs_background": "light"
     },
     "output_type": "display_data"
    }
   ],
   "source": [
    "eq_data = np.array([\n",
    "    0, # 1900-1909\n",
    "    1, # 1910-1919\n",
    "    2, # 1920-1929\n",
    "    0, # 1930-1939\n",
    "    3, # 1940-1949\n",
    "    2, # 1950-1959\n",
    "    1, # 1960-1969\n",
    "    2, # 1970-1979\n",
    "    1, # 1980-1989\n",
    "    4, # 1990-1999\n",
    "    0, # 2000-2009\n",
    "    2 # 2010-2019 \n",
    "])\n",
    "fig, ax = plt.subplots()\n",
    "ax.bar(np.linspace(1900, 2019, eq_data.shape[0]), eq_data, width=10)\n",
    "ax.set_xlabel('Decade')\n",
    "ax.set_ylabel('# of major earthquakes in Southern CA');"
   ]
  },
  {
   "cell_type": "markdown",
   "metadata": {
    "id": "iVJIbMf_Ov9C"
   },
   "source": [
    "A. The right way to model the number of earthquakes $X_n$ in a decade $n$ is using a Poisson distribution with unknown rate parameter $\\lambda$, i.e.,\n",
    "$$\n",
    "X_n | \\lambda \\sim \\operatorname{Poisson}(\\lambda).\n",
    "$$\n",
    "Here we have $N = 12$ observations, say $x_{1:N} = (x_1,\\dots,x_N)$ (stored in ``eq_data`` above).\n",
    "Find the *joint probability* (otherwise known as the likelihood) $p(x_{1:N}|\\lambda)$ of these random variables.<br>\n",
    "**Answer:**\n",
    "From the PMF of the Poisson, we get:\n",
    "$$\n",
    "\\begin{split}\n",
    "p(x_n|\\lambda) &= p(X_n=x_n|\\lambda)\\\\\n",
    "&= \\operatorname{Poisson}(X_n=x_n|\\lambda)\\\\\n",
    "&= \\frac{\\lambda^{x_n}e^{-\\lambda}}{x_n!}.\n",
    "\\end{split}\n",
    "$$\n",
    "Assuming that earthquakes are independent, the likelihood of the data is:\n",
    "$$\n",
    "\\begin{split}\n",
    "p(x_{1:N}|\\lambda) &= \\prod_{n=1}^Np(x_n|\\lambda)\\\\\n",
    "&= \\prod_{n=1}^N\\frac{\\lambda^{x_n}e^{-\\lambda}}{x_n!}\\\\\n",
    "&= \\frac{\\lambda^{\\sum_{n=1}^Nx_n}e^{-\\lambda N}}{\\prod_{n=1}^Nx_n!}.\n",
    "\\end{split}\n",
    "$$"
   ]
  },
  {
   "cell_type": "markdown",
   "metadata": {
    "id": "MHMgjUUZOv9E"
   },
   "source": [
    "B. The rate parameter $\\lambda$ (number of major earthquakes per ten years) is positive. What prior distribution should we assign to it if we expect it to be around 2?\n",
    "A convenient choice here is to pick a [Gamma](https://en.wikipedia.org/wiki/Gamma_distribution), see also [the scipy.stats page for the Gamma](https://docs.scipy.org/doc/scipy/reference/generated/scipy.stats.gamma.html) because it results in an analytical posterior.\n",
    "We write:\n",
    "$$\n",
    "\\lambda \\sim \\operatorname{Gamma}(\\alpha, \\beta),\n",
    "$$\n",
    "where $\\alpha$ and $\\beta$ are positive *hyper-parameters* that we have to set to represent our prior state of knowledge.\n",
    "The PDF is:\n",
    "$$\n",
    "p(\\lambda) = \\frac{\\beta^\\alpha \\lambda^{\\alpha-1}e^{-\\beta \\lambda}}{\\Gamma(\\alpha)},\n",
    "$$\n",
    "where we are not conditioning on $\\alpha$ and $\\beta$ because they should be fixed numbers.\n",
    "Use the code below to pick some some reasonable values for $\\alpha$ and $\\beta$.\n",
    "Hint: Notice that the maximum entropy distribution for a positive parameter with known expectation is the [Exponential](https://en.wikipedia.org/wiki/Exponential_distribution), e.g., see the Table in [this wiki page](https://en.wikipedia.org/wiki/Maximum_entropy_probability_distribution). Then notice that the Exponential is a special case of the Gamma (set $\\alpha=1$)."
   ]
  },
  {
   "cell_type": "markdown",
   "metadata": {
    "id": "d3Z5sTShOv9G"
   },
   "source": [
    "**Solution:**\n",
    "\n",
    "We are going to pick:\n",
    "$$\n",
    "\\lambda \\sim \\operatorname{Gamma}(\\alpha, \\beta),\n",
    "$$\n",
    "with $\\alpha=1$ so that we get the maximum entropy.\n",
    "Now, in order to match our expectation for $\\lambda$, we think as follows:\n",
    "$$\n",
    "2 = \\mathbb{E}[\\lambda] = \\frac{\\alpha}{\\beta} = \\frac{1}{\\beta},\n",
    "$$\n",
    "and, hence, we should pick:\n",
    "$$\n",
    "\\beta = 0.5.\n",
    "$$"
   ]
  },
  {
   "cell_type": "code",
   "execution_count": 3,
   "metadata": {
    "colab": {
     "base_uri": "https://localhost:8080/",
     "height": 284
    },
    "executionInfo": {
     "elapsed": 640,
     "status": "ok",
     "timestamp": 1633479333347,
     "user": {
      "displayName": "Andrew Cline",
      "photoUrl": "https://lh3.googleusercontent.com/a/default-user=s64",
      "userId": "01039730809548851252"
     },
     "user_tz": 240
    },
    "id": "F89MeMD9Ov9H",
    "outputId": "ca21877a-0cae-4344-c428-246b5932e649"
   },
   "outputs": [
    {
     "data": {
      "image/png": "[encoded data removed]",
      "text/plain": [
       "<Figure size 432x288 with 1 Axes>"
      ]
     },
     "metadata": {
      "needs_background": "light"
     },
     "output_type": "display_data"
    }
   ],
   "source": [
    "import scipy.stats as st\n",
    "alpha = 1.0  # Pick them here\n",
    "beta = 1.0 / 2.0   # Pick them here\n",
    "lambda_prior = st.gamma(alpha, scale=1.0 / beta) # Make sure you understand why scale = 1 / beta\n",
    "lambdas = np.linspace(0, lambda_prior.ppf(0.99), 100)\n",
    "fig, ax = plt.subplots()\n",
    "ax.plot(lambdas, lambda_prior.pdf(lambdas))\n",
    "ax.set_xlabel('$\\lambda$ (# or major earthquakes per decade)')\n",
    "ax.set_ylabel('$p(\\lambda)$');"
   ]
  },
  {
   "cell_type": "markdown",
   "metadata": {
    "id": "nxSoqXO0Ov9I"
   },
   "source": [
    "C. Show that the posterior of $\\lambda$ conditioned on $x_{1:N}$ is also a Gamma, but with updated hyperparameters.\n",
    "Hint: When you write down the posterior of $\\lambda$ you can drop any multiplicative term that does not depend on it as it will be absorbed in the normalization constnat. This will simplify the notation a little bit.\n",
    "<br>\n",
    "**Answer:**\n",
    "\n",
    "The posterior of $\\lambda$ given the data is:\n",
    "$$\n",
    "\\begin{split}\n",
    "p(\\lambda | x_{1:N}) &\\propto p(x_{1:N}|\\lambda)p(\\lambda)\\\\\n",
    "&= \\frac{\\lambda^{\\sum_{n=1}^Nx_n}e^{-\\lambda}}{\\prod_{n=1}^Nx_n!}\n",
    "\\frac{\\beta^\\alpha \\lambda^{\\alpha-1}e^{-\\beta \\lambda}}{\\Gamma(\\alpha)}\\\\\n",
    "&\\propto \\lambda^{\\alpha+\\sum_{n=1}^Nx_n-1}e^{-(\\beta+N)\\lambda}.\n",
    "\\end{split}\n",
    "$$\n",
    "This is indeed the PDF of the Gamma distribution:\n",
    "$$\n",
    "\\lambda | x_{1:N} \\sim \\operatorname{Gamma}\\left(\\alpha+\\sum_{n=1}^Nx_n, \\beta+N\\right).\n",
    "$$"
   ]
  },
  {
   "cell_type": "markdown",
   "metadata": {
    "id": "FVzVrf8UOv9J"
   },
   "source": [
    "D. Prior-likelihood pairs that result in a posterior with the same form as the prior as known as conjugate distributions. Conjugate distributions are your only hope for analytical Bayesian inference.\n",
    "As a sanity check, look at the wikipedia page for [conjugate priors](https://en.wikipedia.org/wiki/Conjugate_prior), locate the Poisson-Gamma pair and verify your answer above."
   ]
  },
  {
   "cell_type": "markdown",
   "metadata": {
    "id": "4xO1v2vrOv9K"
   },
   "source": [
    "Yap, it matches! See the fourth row of the \"Table of conjugate distributions.\""
   ]
  },
  {
   "cell_type": "markdown",
   "metadata": {
    "id": "TzIGJVMdOv9L"
   },
   "source": [
    "E. Plot the prior and the posterior of $\\lambda$ on the same plot."
   ]
  },
  {
   "cell_type": "code",
   "execution_count": 4,
   "metadata": {
    "colab": {
     "base_uri": "https://localhost:8080/",
     "height": 301
    },
    "executionInfo": {
     "elapsed": 553,
     "status": "ok",
     "timestamp": 1633479338099,
     "user": {
      "displayName": "Andrew Cline",
      "photoUrl": "https://lh3.googleusercontent.com/a/default-user=s64",
      "userId": "01039730809548851252"
     },
     "user_tz": 240
    },
    "id": "AjP3aZqYOv9M",
    "outputId": "daaa7f85-95d8-4a9a-bc18-97b117fd391b"
   },
   "outputs": [
    {
     "data": {
      "text/plain": [
       "<matplotlib.legend.Legend at 0x7f5d9b3ed690>"
      ]
     },
     "execution_count": 4,
     "metadata": {},
     "output_type": "execute_result"
    },
    {
     "data": {
      "image/png": "[encoded data removed]",
      "text/plain": [
       "<Figure size 432x288 with 1 Axes>"
      ]
     },
     "metadata": {
      "needs_background": "light"
     },
     "output_type": "display_data"
    }
   ],
   "source": [
    "alpha_post = alpha + eq_data.sum() # Your expression for alpha posterior here\n",
    "beta_post = beta + len(eq_data) # Your expression for beta posterior here\n",
    "lambda_post = st.gamma(alpha_post, scale=1.0 / beta_post)\n",
    "lambdas = np.linspace(0, lambda_post.ppf(0.99), 100)\n",
    "fig, ax = plt.subplots()\n",
    "ax.plot(lambdas, lambda_prior.pdf(lambdas), label='Prior')\n",
    "ax.plot(lambdas, lambda_post.pdf(lambdas), label='Posterior')\n",
    "ax.set_xlabel('$\\lambda$ (# or major earthquakes per decade)')\n",
    "ax.set_ylabel('$p(\\lambda|x_{1:N})$')\n",
    "ax.legend(loc='best')"
   ]
  },
  {
   "cell_type": "markdown",
   "metadata": {
    "id": "MeuSEWT8Ov9N"
   },
   "source": [
    "F. Let's work out the predictive distribution for the number of major earthquakes during the next decade.\n",
    "This is something that we did not do in class, but it will appear again and again in future lectures.\n",
    "Let $X$ be the random variable corresponding to the number of major eathquakes during the next decade.\n",
    "We need to calculate:\n",
    "$$\n",
    "p(x|x_{1:N}) = \\text{our state of knowledge about $X$ after seeing the data}.\n",
    "$$\n",
    "How do we do this?\n",
    "We just use the sum rule:\n",
    "$$\n",
    "p(x|x_{1:N}) = \\int_{0}^\\infty p(x|\\lambda, x_{1:N}) p(\\lambda|x_{1:N})d\\lambda = \\int_{0}^\\infty p(x|\\lambda) p(\\lambda|x_{1:N})d\\lambda,\n",
    "$$\n",
    "where going from the middle step to the rightmost one we used the assumption that the number of earthquakes occuring in each decade is independent.\n",
    "Carry out this integral and show that it will give you the [negative Binomial](https://en.wikipedia.org/wiki/Negative_binomial_distribution) distribution $\\operatorname{NB}(r,p)$, see also its [scipy.stats](https://docs.scipy.org/doc/scipy/reference/generated/scipy.stats.nbinom.html), page with parameters\n",
    "$$\n",
    "r = \\alpha + \\sum_{n=1}^N x_n,\n",
    "$$\n",
    "and\n",
    "$$\n",
    "p = \\frac{1}{\\beta + N + 1}.\n",
    "$$\n",
    "The probability density of the negative Binomial is (using the notation of wikipedia):\n",
    "$$\n",
    "\\operatorname{NB}(k|r,p) = {k + r - 1\\choose k}(1-p)^rp^k.\n",
    "$$\n",
    "You may also use the fact that:\n",
    "$$\n",
    "\\begin{split}\n",
    "\\int_0^\\infty y^{\\alpha-1}e^{-\\beta\\lambda}dy &=\n",
    "\\text{inverse normalization constant of }\\operatorname{Gamma}(\\alpha,\\beta)\\\\\n",
    "&= \\frac{\\Gamma(\\alpha)}{\\beta^\\alpha},\n",
    "\\end{split}\n",
    "$$\n",
    "and that $\\Gamma(n+1) = n!$.\n",
    "\n",
    "**Answer:**"
   ]
  },
  {
   "cell_type": "markdown",
   "metadata": {
    "id": "7bG4WWatOv9N"
   },
   "source": [
    "The posterior predictive distribution of a new observation $x$ is:\n",
    "$$\n",
    "\\begin{split}\n",
    "p(x|x_{1:N}) &= \\int_{0}^\\infty p(x|\\lambda) p(\\lambda|x_{1:N})d\\lambda\\\\\n",
    "&= \\int_0^{\\infty}\\operatorname{Poisson}(x|\\lambda)\\operatorname{Gamma}(\\lambda|\\tilde{\\alpha}, \\tilde{\\beta})d\\lambda,\n",
    "\\end{split}\n",
    "$$\n",
    "where $\\tilde{\\alpha} = \\alpha + \\sum_{n=1}^{N}x_n$, and $\\tilde{\\beta} = \\beta + N$ as we found before.\n",
    "Substituting for the PMF of the Poisson and the PDF of the Gamma we get:\n",
    "$$\n",
    "\\begin{split}\n",
    "p(x|x_{1:N}) &= \\int_0^\\infty \\frac{\\lambda^xe^{-\\lambda}}{x!}\\frac{{\\tilde{\\beta}}^{\\tilde{\\alpha}}}{\\Gamma(\\tilde{\\alpha})}\\lambda^{\\tilde{\\alpha}-1}e^{-\\tilde{\\beta}\\lambda}d\\lambda\\\\\n",
    "&= \\frac{{\\tilde{\\beta}}^{\\tilde{\\alpha}}}{x!\\Gamma(\\tilde{\\alpha})}\\int_0^\\infty \\lambda^{x+\\tilde{\\alpha}-1}e^{-(\\tilde{\\beta}+1)\\lambda}d\\lambda,\n",
    "\\end{split}\n",
    "$$\n",
    "where in the last step we just took the constants out of the integral.\n",
    "Now, notice that the term inside the integral is proportional to the PDF of a $\\operatorname{Gamma}(x+\\tilde{\\alpha},\\tilde{\\beta}+1))$.\n",
    "We are lucky, because it matches exactly the inverse of the normalization constant, i.e.:\n",
    "$$\n",
    "\\begin{split}\n",
    "\\int_0^\\infty \\lambda^{x+\\tilde{\\alpha}-1}e^{-(\\tilde{\\beta}+1)\\lambda}d\\lambda &=\n",
    "\\text{inverse normalization constant of }\\operatorname{Gamma}(x+\\tilde{\\alpha},\\tilde{\\beta}+1))\\\\\n",
    "&= \\frac{\\Gamma(x+\\tilde{\\alpha})}{\\left(\\tilde{\\beta}+1\\right)^{x+\\tilde{\\alpha}}}.\n",
    "\\end{split}\n",
    "$$\n",
    "Putting everything together, we get:\n",
    "$$\n",
    "\\begin{split}\n",
    "p(x|x_{1:N}) &= \\frac{{\\tilde{\\beta}}^{\\tilde{\\alpha}}}{x!\\Gamma(\\tilde{\\alpha})}\\frac{\\Gamma(x+\\tilde{\\alpha})}{\\left(\\tilde{\\beta}+1\\right)^{x+\\tilde{\\alpha}}}\\\\\n",
    "&= \\frac{\\Gamma(x+\\tilde{\\alpha})}{x!\\Gamma(\\tilde{\\alpha})} \\left(\\frac{\\tilde{\\beta}}{\\tilde{\\beta}+1}\\right)^{\\tilde{\\alpha}}\\frac{1}{\\left(\\tilde{\\beta}+1\\right)^x} \\\\\n",
    "&= \\frac{(x+\\tilde{\\alpha}+1)!}{x!(\\tilde{\\alpha}+1)!}\\left(\\frac{\\tilde{\\beta}}{\\tilde{\\beta}+1}\\right)^{\\tilde{\\alpha}}\\frac{1}{\\left(\\tilde{\\beta}+1\\right)^x},\n",
    "\\end{split}\n",
    "$$\n",
    "where we used the property of the Gamma function $\\Gamma(n+1) = n!$ for all positive integers $n$.\n",
    "Observe that:\n",
    "$$\n",
    "\\begin{split}\n",
    "\\frac{(x+\\tilde{\\alpha}-1)!}{x!(\\tilde{\\alpha}-1)!} &= \\frac{(x+\\tilde{\\alpha}-1)!}{x!(x+\\tilde{\\alpha}-1 - x)!}\\\\\n",
    "&= {x+\\tilde{\\alpha} - 1 \\choose x}\\\\\n",
    "&= {x + r - 1 \\choose x},\n",
    "\\end{split}\n",
    "$$\n",
    "since $r = \\tilde{\\alpha} = \\alpha + \\sum_{n=1}^Nx_n$.\n",
    "To complete the proof, observe that since $p = \\frac{1}{\\beta + N + 1} = \\frac{1}{\\tilde{\\beta}+1}$, we get:\n",
    "$$\n",
    "1 - p = 1 - \\frac{1}{\\tilde{\\beta}+1} = \\frac{\\tilde{\\beta} + 1 - 1}{\\tilde{\\beta} + 1} = \\frac{\\tilde{\\beta}}{\\tilde{\\beta} + 1}.\n",
    "$$\n",
    "Plugging everything in, we get:\n",
    "$$\n",
    "p(x|x_{1:N}) = {x + r - 1 \\choose x}(1-p)^rp^x,\n",
    "$$\n",
    "which is the desired expression."
   ]
  },
  {
   "cell_type": "markdown",
   "metadata": {
    "id": "vfTVrLR2Ov9O"
   },
   "source": [
    "G. Plot the predictive distribution $p(x|x_{1:N})$."
   ]
  },
  {
   "cell_type": "code",
   "execution_count": 5,
   "metadata": {
    "colab": {
     "base_uri": "https://localhost:8080/",
     "height": 284
    },
    "executionInfo": {
     "elapsed": 294,
     "status": "ok",
     "timestamp": 1633479769874,
     "user": {
      "displayName": "Andrew Cline",
      "photoUrl": "https://lh3.googleusercontent.com/a/default-user=s64",
      "userId": "01039730809548851252"
     },
     "user_tz": 240
    },
    "id": "0P6MR86aOv9P",
    "outputId": "c39ca849-43c2-433f-803f-7fbded07a7f4"
   },
   "outputs": [
    {
     "data": {
      "image/png": "[encoded data removed]",
      "text/plain": [
       "<Figure size 432x288 with 1 Axes>"
      ]
     },
     "metadata": {
      "needs_background": "light"
     },
     "output_type": "display_data"
    }
   ],
   "source": [
    "r = alpha_post # Your expression for r here\n",
    "p = 1./(1 + beta_post) # Your expression for p here\n",
    "X = st.nbinom(r, 1.0 - p) # Please pay attention to the fact that the wiki and scipy.stats\n",
    "                              # use slightly different definitions\n",
    "fig, ax = plt.subplots()\n",
    "xs = range(0, 10)\n",
    "ax.bar(xs, X.pmf(xs), alpha=0.5)\n",
    "ax.set_xlabel('$x$ (# of earthquakes during next decade)')\n",
    "ax.set_ylabel('$p(x|x_{1:N})$');"
   ]
  },
  {
   "cell_type": "markdown",
   "metadata": {
    "id": "LpIo1s2eOv9Q"
   },
   "source": [
    "H. What is the probability that at least one major earthquake will occur during the next decade?<br>\n",
    "**Answer:**\n",
    "The probability of atleast 1 major earthquake over the next decade given the observed data is:\n",
    "$$\n",
    "p(x > 0|x_{1:N}) = 1 - p(x = 0|x_{1:N}).\n",
    "$$"
   ]
  },
  {
   "cell_type": "code",
   "execution_count": 6,
   "metadata": {
    "colab": {
     "base_uri": "https://localhost:8080/"
    },
    "executionInfo": {
     "elapsed": 239,
     "status": "ok",
     "timestamp": 1633479775426,
     "user": {
      "displayName": "Andrew Cline",
      "photoUrl": "https://lh3.googleusercontent.com/a/default-user=s64",
      "userId": "01039730809548851252"
     },
     "user_tz": 240
    },
    "id": "eKfpG1mTOv9R",
    "outputId": "9b5cab3b-bc37-47c3-e00f-cb3c5b906ffe"
   },
   "outputs": [
    {
     "name": "stdout",
     "output_type": "stream",
     "text": [
      "p(Atleast one earthquake in the next decade) = 0.77\n"
     ]
    }
   ],
   "source": [
    "print(\"p(Atleast one earthquake in the next decade) = {0:1.2f}\".format(1-X.pmf(0)))"
   ]
  },
  {
   "cell_type": "markdown",
   "metadata": {
    "id": "_52uF1_eOv9R"
   },
   "source": [
    "I. What is the probability that at least one major earthquake will occur during the next two decades?<br>\n",
    "**Answer:**\n",
    "The probability of atleast 1 major earthquake over the next 2 decades given the observed data is:\n",
    "$$\n",
    "\\begin{split}\n",
    "p(x_{N+1} > 0 \\text{ or } x_{N+2} > 0|x_{1:N}) &= 1 - p(x_{N+1} = 0 \\ \\text{and} \\  x_{N+2} = 0|x_{1:N}),\\\\\n",
    "&= 1 - p(x = 0|x_{1:N})^2.\n",
    "\\end{split}\n",
    "$$"
   ]
  },
  {
   "cell_type": "code",
   "execution_count": 7,
   "metadata": {
    "colab": {
     "base_uri": "https://localhost:8080/"
    },
    "executionInfo": {
     "elapsed": 312,
     "status": "ok",
     "timestamp": 1633479778158,
     "user": {
      "displayName": "Andrew Cline",
      "photoUrl": "https://lh3.googleusercontent.com/a/default-user=s64",
      "userId": "01039730809548851252"
     },
     "user_tz": 240
    },
    "id": "wctvayBoOv9S",
    "outputId": "645fae39-4966-4c51-9748-d95ff37f2c31"
   },
   "outputs": [
    {
     "name": "stdout",
     "output_type": "stream",
     "text": [
      "p(Atleast 1 earthquake in the next 2 decades) = 0.95\n"
     ]
    }
   ],
   "source": [
    "print(\"p(Atleast 1 earthquake in the next 2 decades) = {0:1.2f}\".format(1- (X.pmf(0)**2)))"
   ]
  },
  {
   "cell_type": "markdown",
   "metadata": {
    "id": "T8t7FjikOv9T"
   },
   "source": [
    "J. Find a 95\\% credible interval for $\\lambda$."
   ]
  },
  {
   "cell_type": "code",
   "execution_count": 8,
   "metadata": {
    "colab": {
     "base_uri": "https://localhost:8080/"
    },
    "executionInfo": {
     "elapsed": 12,
     "status": "ok",
     "timestamp": 1633479779478,
     "user": {
      "displayName": "Andrew Cline",
      "photoUrl": "https://lh3.googleusercontent.com/a/default-user=s64",
      "userId": "01039730809548851252"
     },
     "user_tz": 240
    },
    "id": "b0ZK1M-OOv9T",
    "outputId": "9e151de0-9475-4c76-e337-f6f603b68c9e"
   },
   "outputs": [
    {
     "name": "stdout",
     "output_type": "stream",
     "text": [
      "a 95% predictive interval for lambda is: (0.92, 2.28).\n"
     ]
    }
   ],
   "source": [
    "lower, upper = lambda_post.ppf(0.025), lambda_post.ppf(0.975)\n",
    "print('a 95%% predictive interval for lambda is: (%.2f, %.2f).'%(lower, upper))"
   ]
  },
  {
   "cell_type": "markdown",
   "metadata": {
    "id": "S2aqmqwgOv9U"
   },
   "source": [
    "K. Find the $\\lambda$ that minimizes the absolute loss (see lecture), call it $\\lambda^*_N$.\n",
    "Then, plot the fully Bayesian predictive $p(x|x_{1:N})$ in the same figure as $p(x|\\lambda^*_N)$."
   ]
  },
  {
   "cell_type": "code",
   "execution_count": null,
   "metadata": {
    "id": "21OnaKTm8GW4"
   },
   "outputs": [],
   "source": []
  },
  {
   "cell_type": "markdown",
   "metadata": {
    "id": "X3tN0FEROv9U"
   },
   "source": [
    "**Answer:**\n",
    "\n",
    "The $\\lambda$ that minimizes the absolute loss, $\\lambda^*$, is the median of the posterior distribution:"
   ]
  },
  {
   "cell_type": "code",
   "execution_count": 9,
   "metadata": {
    "colab": {
     "base_uri": "https://localhost:8080/"
    },
    "executionInfo": {
     "elapsed": 503,
     "status": "ok",
     "timestamp": 1633479781187,
     "user": {
      "displayName": "Andrew Cline",
      "photoUrl": "https://lh3.googleusercontent.com/a/default-user=s64",
      "userId": "01039730809548851252"
     },
     "user_tz": 240
    },
    "id": "wRp8pyQFOv9U",
    "outputId": "c97afb8e-ece8-4ce5-91f4-3243d9a17513"
   },
   "outputs": [
    {
     "name": "stdout",
     "output_type": "stream",
     "text": [
      "lambda* = 1.49\n"
     ]
    }
   ],
   "source": [
    "lambda_post_median = lambda_post.median()\n",
    "print('lambda* = {0:1.2f}'.format(lambda_post_median))"
   ]
  },
  {
   "cell_type": "markdown",
   "metadata": {
    "id": "doCHpk6nOv9U"
   },
   "source": [
    "The corresponding posterior predictive distribution is a Poisson distribution with parameter $\\lambda^*$, i.e., \n",
    "$x|x_{1:N} \\sim \\text{Poisson}(\\lambda^*)$. See below for visualization."
   ]
  },
  {
   "cell_type": "code",
   "execution_count": 11,
   "metadata": {
    "colab": {
     "base_uri": "https://localhost:8080/",
     "height": 296
    },
    "executionInfo": {
     "elapsed": 505,
     "status": "ok",
     "timestamp": 1633479793972,
     "user": {
      "displayName": "Andrew Cline",
      "photoUrl": "https://lh3.googleusercontent.com/a/default-user=s64",
      "userId": "01039730809548851252"
     },
     "user_tz": 240
    },
    "id": "dHR9EMw0Ov9V",
    "outputId": "7ea27225-6e43-4fe6-e707-ba6fd68c402d"
   },
   "outputs": [
    {
     "data": {
      "image/png": "[encoded data removed]",
      "text/plain": [
       "<Figure size 432x288 with 1 Axes>"
      ]
     },
     "metadata": {
      "needs_background": "light"
     },
     "output_type": "display_data"
    }
   ],
   "source": [
    "X_post_abs = st.poisson(lambda_post_median)\n",
    "fig, ax = plt.subplots()\n",
    "ax.bar(xs, X.pmf(xs), alpha=0.5, label='True posterior predictive')\n",
    "ax.bar(xs, X_post_abs.pmf(xs), alpha=0.5, label='Approximate posterior predictive')\n",
    "ax.set_title('Posterior predictive distribution')\n",
    "ax.set_xlabel('$k$')\n",
    "ax.set_ylabel('$p(x|x_{1:N})$')\n",
    "plt.legend(loc='best');\n",
    "\n",
    "\n"
   ]
  },
  {
   "cell_type": "markdown",
   "metadata": {
    "id": "dB4p29fCOv9V"
   },
   "source": [
    "L. Draw replicated data from the model and compare them to the observed data. Hint: Complete the missing code at the places indicated below."
   ]
  },
  {
   "cell_type": "code",
   "execution_count": 12,
   "metadata": {
    "colab": {
     "base_uri": "https://localhost:8080/",
     "height": 762
    },
    "executionInfo": {
     "elapsed": 2679,
     "status": "ok",
     "timestamp": 1633480368253,
     "user": {
      "displayName": "Andrew Cline",
      "photoUrl": "https://lh3.googleusercontent.com/a/default-user=s64",
      "userId": "01039730809548851252"
     },
     "user_tz": 240
    },
    "id": "RhIQCfFnOv9V",
    "outputId": "964de082-b096-45cb-ac13-55222fa03945"
   },
   "outputs": [
    {
     "data": {
      "image/png": "[encoded data removed]",
      "text/plain": [
       "<Figure size 1440x1440 with 10 Axes>"
      ]
     },
     "metadata": {
      "needs_background": "light"
     },
     "output_type": "display_data"
    }
   ],
   "source": [
    "# Number of replicated datasets\n",
    "n_rep = 9\n",
    "# A variable to store the replicated data:\n",
    "x_rep = np.ndarray((n_rep, eq_data.shape[0]))\n",
    "for i in range(n_rep):\n",
    "    # Student code 1: Take a sample of lambda from its posterior:\n",
    "    lambda_post_sample = lambda_post.rvs()\n",
    "    # Student code 2: Take a sample of size eq_data.shape[0] from the Poisson with parameter\n",
    "    # lambda_post_sample (You can use st.poisson)\n",
    "    x_rep[i, :] = st.poisson(lambda_post_sample).rvs(size=eq_data.shape[0])\n",
    "fig, ax = plt.subplots(5, 2, sharex='all', sharey='all', figsize=(20, 20))\n",
    "ax[0, 0].bar(np.linspace(1900, 2019, eq_data.shape[0]), eq_data, width=10, color='red')\n",
    "for i in range(1, n_rep + 1):\n",
    "    ax[int(i / 2), i % 2].bar(np.linspace(1900, 2019, eq_data.shape[0]), x_rep[i-1], width=10)"
   ]
  },
  {
   "cell_type": "markdown",
   "metadata": {
    "id": "78Ds3jqROv9W"
   },
   "source": [
    "M. Plot the histograms and calculate the Bayesian p-values of the following test-quantities:\n",
    "\n",
    "+ Maximum number of consecutive decades with no earthquakes.\n",
    "+ Maximum number of consecutive decades with earthquakes.\n"
   ]
  },
  {
   "cell_type": "code",
   "execution_count": 13,
   "metadata": {
    "colab": {
     "base_uri": "https://localhost:8080/",
     "height": 301
    },
    "executionInfo": {
     "elapsed": 4422,
     "status": "ok",
     "timestamp": 1633480375282,
     "user": {
      "displayName": "Andrew Cline",
      "photoUrl": "https://lh3.googleusercontent.com/a/default-user=s64",
      "userId": "01039730809548851252"
     },
     "user_tz": 240
    },
    "id": "Ca-p6-QaOv9W",
    "outputId": "71f96e47-e718-4fc8-b456-5c3e750aaef9"
   },
   "outputs": [
    {
     "name": "stdout",
     "output_type": "stream",
     "text": [
      "The observed test quantity is 1\n",
      "The Bayesian p_value is 0.4002\n"
     ]
    },
    {
     "data": {
      "image/png": "[encoded data removed]",
      "text/plain": [
       "<Figure size 432x288 with 1 Axes>"
      ]
     },
     "metadata": {
      "needs_background": "light"
     },
     "output_type": "display_data"
    }
   ],
   "source": [
    "# Define the test quantity as a function of the data:\n",
    "def T_eq_max_neq(x):\n",
    "    \"\"\"\n",
    "    Return the maximum number of consecutive decades with no earthquakes.\n",
    "    \"\"\"\n",
    "    count = 0\n",
    "    result = 0\n",
    "    for i in range(x.shape[0]):\n",
    "        if x[i] != 0:\n",
    "            count = 0\n",
    "        else:\n",
    "            count += 1\n",
    "            result = max(result, count)\n",
    "    return result\n",
    "    \n",
    "# The observed test quantity\n",
    "T_eq_max_neq_obs = T_eq_max_neq(eq_data)\n",
    "print('The observed test quantity is {0:d}'.format(T_eq_max_neq_obs))\n",
    "# Draw replicated data\n",
    "n_rep = 5000\n",
    "x_rep = np.ndarray((n_rep, eq_data.shape[0]))\n",
    "for i in range(n_rep):\n",
    "    # Student code 1: Take a sample of lambda from its posterior:\n",
    "    lambda_post_sample = lambda_post.rvs()\n",
    "    # Student code 2: Take a sample of size eq_data.shape[0] from the Poisson with parameter\n",
    "    # lambda_post_sample (You can use st.poisson)\n",
    "    x_rep[i, :] = st.poisson(lambda_post_sample).rvs(size=eq_data.shape[0])\n",
    "# Evaluate the test quantity\n",
    "T_eq_max_neq_rep = np.ndarray(x_rep.shape[0])\n",
    "for i in range(x_rep.shape[0]):\n",
    "    T_eq_max_neq_rep[i] = T_eq_max_neq(x_rep[i, :])\n",
    "# Estimate the Bayesian p-value\n",
    "p_val = np.sum(np.ones((n_rep,))[T_eq_max_neq_rep > T_eq_max_neq_obs]) / n_rep\n",
    "print('The Bayesian p_value is {0:1.4f}'.format(p_val))\n",
    "# Do the plot\n",
    "fig, ax = plt.subplots()\n",
    "tmp = ax.hist(T_eq_max_neq_rep, density=True, alpha=0.25, label='Replicated test quantity')[0]\n",
    "ax.plot(T_eq_max_neq_obs * np.ones((50,)), np.linspace(0, tmp.max(), 50), 'k', label='Observed test quantity')\n",
    "plt.legend(loc='best');"
   ]
  },
  {
   "cell_type": "code",
   "execution_count": 14,
   "metadata": {
    "colab": {
     "base_uri": "https://localhost:8080/",
     "height": 302
    },
    "executionInfo": {
     "elapsed": 4516,
     "status": "ok",
     "timestamp": 1633480385461,
     "user": {
      "displayName": "Andrew Cline",
      "photoUrl": "https://lh3.googleusercontent.com/a/default-user=s64",
      "userId": "01039730809548851252"
     },
     "user_tz": 240
    },
    "id": "J3lWjnaTOv9W",
    "outputId": "b600bf80-3627-49c3-e221-3b77d9cbe5c4"
   },
   "outputs": [
    {
     "name": "stdout",
     "output_type": "stream",
     "text": [
      "The observed test quantity is 6\n",
      "The Bayesian p_value is 0.3654\n"
     ]
    },
    {
     "data": {
      "image/png": "[encoded data removed]",
      "text/plain": [
       "<Figure size 432x288 with 1 Axes>"
      ]
     },
     "metadata": {
      "needs_background": "light"
     },
     "output_type": "display_data"
    }
   ],
   "source": [
    "# Write your code here for the second test quantity (maximum number of consecutive decades with earthquakes)\n",
    "# Hint: copy paste your code from the previous cell and make the necessary modifications\n",
    "# Define the test quantity as a function of the data:\n",
    "def T_eq_max_eq(x):\n",
    "    \"\"\"\n",
    "    Return the maximum number of consecutive decades with earthquakes.\n",
    "    \"\"\"\n",
    "    count = 0\n",
    "    result = 0\n",
    "    for i in range(x.shape[0]):\n",
    "        if x[i] > 0:\n",
    "            count += 1\n",
    "            result = max(result, count)\n",
    "        else:\n",
    "            count = 0\n",
    "    return result\n",
    "    \n",
    "# The observed test quantity\n",
    "T_eq_max_eq_obs = T_eq_max_eq(eq_data)\n",
    "print('The observed test quantity is {0:d}'.format(T_eq_max_eq_obs))\n",
    "# Draw replicated data\n",
    "n_rep = 5000\n",
    "x_rep = np.ndarray((n_rep, eq_data.shape[0]))\n",
    "for i in range(n_rep):\n",
    "    # Student code 1: Take a sample of lambda from its posterior:\n",
    "    lambda_post_sample = lambda_post.rvs()\n",
    "    # Student code 2: Take a sample of size eq_data.shape[0] from the Poisson with parameter\n",
    "    # lambda_post_sample (You can use st.poisson)\n",
    "    x_rep[i, :] = st.poisson(lambda_post_sample).rvs(size=eq_data.shape[0])\n",
    "# Evaluate the test quantity\n",
    "T_eq_max_eq_rep = np.ndarray(x_rep.shape[0])\n",
    "for i in range(x_rep.shape[0]):\n",
    "    T_eq_max_eq_rep[i] = T_eq_max_eq(x_rep[i, :])\n",
    "# Estimate the Bayesian p-value\n",
    "p_val = np.sum(np.ones((n_rep,))[T_eq_max_eq_rep > T_eq_max_eq_obs]) / n_rep\n",
    "print('The Bayesian p_value is {0:1.4f}'.format(p_val))\n",
    "# Do the plot\n",
    "fig, ax = plt.subplots()\n",
    "tmp = ax.hist(T_eq_max_eq_rep, density=True, alpha=0.25, label='Replicated test quantity')[0]\n",
    "ax.plot(T_eq_max_eq_obs * np.ones((50,)), np.linspace(0, tmp.max(), 50), 'k', label='Observed test quantity')\n",
    "plt.legend(loc='best');"
   ]
  }
 ],
 "metadata": {
  "colab": {
   "name": "homework_04.ipynb",
   "provenance": []
  },
  "kernelspec": {
   "display_name": "Python 3",
   "language": "python",
   "name": "python3"
  },
  "language_info": {
   "codemirror_mode": {
    "name": "ipython",
    "version": 3
   },
   "file_extension": ".py",
   "mimetype": "text/x-python",
   "name": "python",
   "nbconvert_exporter": "python",
   "pygments_lexer": "ipython3",
   "version": "3.8.8"
  }
 },
 "nbformat": 4,
 "nbformat_minor": 1
}
