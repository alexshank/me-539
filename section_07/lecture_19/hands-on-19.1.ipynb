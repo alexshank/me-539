{
 "cells": [
  {
   "cell_type": "code",
   "execution_count": 1,
   "metadata": {},
   "outputs": [],
   "source": [
    "import numpy as np\n",
    "import matplotlib.pyplot as plt\n",
    "import scipy\n",
    "%matplotlib inline\n",
    "import seaborn as sns\n",
    "sns.set_context('paper')"
   ]
  },
  {
   "cell_type": "markdown",
   "metadata": {},
   "source": [
    "# Hands-on Activity 19.1 - Object Tracking Example\n",
    "\n",
    "## Objectives\n",
    "\n",
    "+ Demonstrate the filtering problem in the context of object tracking"
   ]
  },
  {
   "cell_type": "markdown",
   "metadata": {},
   "source": [
    "Consider an object of mass $m$ and position vector $\\vec{r} = r_x\\hat{i}+r_y\\hat{j}$,\n",
    "where $\\hat{i}$ and $\\hat{j}$ are the unit vectors in the x- and y-direction, respectively.\n",
    "As we saw in the lecture video, the dynamics are given by Newton's law:\n",
    "$$\n",
    "m\\frac{d^2\\vec{r}}{dt^2} = \\vec{F} = u_x\\hat{i} + u_y\\hat{j}.\n",
    "$$\n",
    "\n",
    "We also saw that these 2nd order differential equations can be written as four first order differential equations:\n",
    "$$\n",
    "\\frac{d\\vec{r}}{dt} = \\vec{v},\n",
    "$$\n",
    "and\n",
    "$$\n",
    "\\frac{d\\vec{v}}{dt} = \\frac{u_x}{m}\\hat{i} + \\frac{u_y}{m}\\hat{j}.\n",
    "$$\n",
    "\n",
    "Then, we used the Euler scheme with a timestep $\\Delta t$ to numerically solve these equations, yielding:\n",
    "$$\n",
    "\\vec{r}((n+1)\\Delta t) = \\vec{r}(n\\Delta t) + \\Delta t\\vec{v}(n\\Delta t),\n",
    "$$\n",
    "and\n",
    "$$\n",
    "\\vec{v}((n+1)\\Delta t) = \\vec{v}(n\\Delta t) + \\Delta t\\left(u_x\\hat{i} + u_y\\hat{j}\\right).\n",
    "$$\n",
    "\n",
    "Writing the state vector as:\n",
    "$$\n",
    "\\mathbf{x}_n =\n",
    "\\begin{bmatrix}\n",
    "r_x(n\\Delta t)\\\\\n",
    "r_y(n\\Delta t)\\\\\n",
    "v_x(n\\Delta t)\n",
    "\\end{bmatrix},\n",
    "$$\n",
    "and the control vector as:\n",
    "$$\n",
    "\\mathbf{u}_n =\n",
    "\\begin{bmatrix}\n",
    "u_x(n\\Delta t)\\\\\n",
    "u_y(n\\Delta t)\n",
    "\\end{bmatrix},\n",
    "$$\n",
    "then we see that the system satisfies the linear transition equation:\n",
    "$$\n",
    "\\mathbf{x}_{n+1} = \\mathbf{A}\\mathbf{x}_n + \\mathbf{B}\\mathbf{u}_n + \\mathbf{z}_n,\n",
    "$$\n",
    "with transition matrix:\n",
    "$$\n",
    "\\mathbf{A} =\n",
    "\\begin{bmatrix}\n",
    "1 & 0 & \\Delta t & 0\\\\\n",
    "0 & 1 & 0 & \\Delta t\\\\\n",
    "0 & 0 & 1 & 0\\\\\n",
    "0 & 0 & 0 & 1\n",
    "\\end{bmatrix},\n",
    "$$\n",
    "control matrix:\n",
    "$$\n",
    "\\mathbf{B} = \\begin{bmatrix}\n",
    "0 & 0\\\\\n",
    "0 & 0\\\\\n",
    "\\frac{\\Delta t}{m} & 0\\\\\n",
    "0 & \\frac{\\Delta t}{m}\n",
    "\\end{bmatrix}\n",
    "$$\n",
    "and we assume that\n",
    "$$\n",
    "\\mathbf{z}_n \\sim N(\\mathbf{0},\\mathbf{Q}),\n",
    "$$\n",
    "is some process noise with covariance matrix $\\mathbf{Q}$.\n",
    "Notice that the process noise does not appear in the original system.\n",
    "We have included it by hand and it is a modeling choice.\n",
    "We take the process covariance matrix to be:\n",
    "$$\n",
    "Q = \\begin{bmatrix}\n",
    "\\epsilon & 0 & 0 & 0\\\\\n",
    "0 & \\epsilon & 0 & 0\\\\\n",
    "0 & 0 & \\sigma^2_q & 0\\\\\n",
    "0 & 0 & 0 & \\sigma^2_q\n",
    "\\end{bmatrix},\n",
    "$$\n",
    "where we have included a small $\\epsilon>0$ is very small and captures the discretization error of the Euler scheme.\n",
    "The variance $\\sigma_q^2$ can be larger as it captures both the discretization error and any external forces to the system (forces that are not captured in $\\mathbf{u}_n$)."
   ]
  },
  {
   "cell_type": "markdown",
   "metadata": {},
   "source": [
    "Now let's talk about the measurements.\n",
    "Let's assume that we measure a noisy version of the position of the object.\n",
    "This is typically of GPS measurements.\n",
    "Mathematically, we have:\n",
    "$$\n",
    "\\mathbf{y}_n = \\mathbf{C}\\mathbf{x}_n + \\mathbf{w}_n,\n",
    "$$\n",
    "with\n",
    "$$\n",
    "C = \\begin{bmatrix}\n",
    "1 & 0 & 0 & 0\\\\\n",
    "0 & 1 & 0 & 0\n",
    "\\end{bmatrix}\n",
    "$$\n",
    "with measurement covariance:\n",
    "$$\n",
    "R =\n",
    "\\begin{bmatrix}\n",
    "\\sigma_r^2 & 0 \\\\\n",
    "0 & \\sigma_r^2\n",
    "\\end{bmatrix}.\n",
    "$$\n",
    "This is it.\n",
    "Now, let's define all the necessary quantities:"
   ]
  },
  {
   "cell_type": "code",
   "execution_count": 2,
   "metadata": {},
   "outputs": [],
   "source": [
    "# The timestep\n",
    "Dt = 0.5\n",
    "# The mass\n",
    "m = 1.0\n",
    "# The variance for the process noise for position\n",
    "epsilon = 1e-6\n",
    "# The standard deviation for the process noise for velocity\n",
    "sigma_q = 1e-2\n",
    "# The standard deviation for the measurement noise for position\n",
    "sigma_r = 0.1\n",
    "\n",
    "# INITIAL CONDITIONS\n",
    "# initial mean\n",
    "mu0 = np.zeros((4,))\n",
    "# initial covariance\n",
    "V0 = np.array([0.1**2, 0.1**2, 0.1**2, 0.1**2]) * np.eye(4)\n",
    "\n",
    "# TRANSITION MATRIX\n",
    "A = np.array([[1.0, 0, Dt, 0],\n",
    "              [0.0, 1.0, 0.0, Dt],\n",
    "              [0.0, 0.0, 1.0, 0.0],\n",
    "              [0.0, 0.0, 0.0, 1.0]])\n",
    "# CONTROL MATRIX\n",
    "B = np.array([[0.0, 0.0],\n",
    "              [0.0, 0.0],\n",
    "              [Dt / m, 0.0],\n",
    "              [0.0, Dt / m]])\n",
    "# PROCESS COVARIANCE\n",
    "Q = np.array([epsilon, epsilon, sigma_q ** 2, sigma_q ** 2]) * np.eye(4)\n",
    "# EMISSION MATRIX\n",
    "C = np.array([[1.0, 0.0, 0.0, 0.0],\n",
    "               [0.0, 1.0, 0.0, 0.0]])\n",
    "# MEASUREMENT COVARIANCE\n",
    "R = np.array([sigma_r ** 2, sigma_r ** 2]) * np.eye(2)"
   ]
  },
  {
   "cell_type": "markdown",
   "metadata": {},
   "source": [
    "Now we are going to simulate a trajectory of this particle."
   ]
  },
  {
   "cell_type": "code",
   "execution_count": 3,
   "metadata": {},
   "outputs": [],
   "source": [
    "# The number of steps in the trajectory\n",
    "num_steps = 50\n",
    "# Space to store the trajectory (each state is 4-dimensional)\n",
    "true_trajectory = np.ndarray((num_steps + 1, 4))\n",
    "# Space to store the observations (each observation is 2-dimensional)\n",
    "observations = np.ndarray((num_steps, 2))\n",
    "\n",
    "# Sample the initial conditions\n",
    "x0 = mu0 + np.sqrt(np.diag(V0)) * np.random.randn(4)\n",
    "true_trajectory[0] = x0\n",
    "\n",
    "# Pick a set of pre-determined forces to be applied to the object\n",
    "# so that it does something interesting\n",
    "force = .1\n",
    "omega = 2.0 * np.pi / 5\n",
    "times = Dt * np.arange(num_steps + 1)\n",
    "us = np.zeros((num_steps, 2))\n",
    "us[:, 0] = force * np.cos(omega * times[1:])\n",
    "us[:, 1] = force * np.sin(omega * times[1:])\n",
    "\n",
    "# Sample the trajectory\n",
    "for n in range(num_steps):\n",
    "    x = np.dot(A, true_trajectory[n]) + np.dot(B, us[n]) + np.sqrt(np.diag(Q)) * np.random.randn(4)\n",
    "    true_trajectory[n+1] = x\n",
    "    y = np.dot(C, x) + np.sqrt(np.diag(R)) * np.random.randn(2)\n",
    "    observations[n] = y"
   ]
  },
  {
   "cell_type": "markdown",
   "metadata": {},
   "source": [
    "Here is a plot of the true trajectory along with the noisy GPS measurements:"
   ]
  },
  {
   "cell_type": "code",
   "execution_count": 4,
   "metadata": {},
   "outputs": [
    {
     "data": {
      "text/plain": [
       "[<matplotlib.lines.Line2D at 0x7ff8b5f4df70>]"
      ]
     },
     "execution_count": 4,
     "metadata": {},
     "output_type": "execute_result"
    },
    {
     "data": {
      "image/png": "[encoded data removed]",
      "text/plain": [
       "<Figure size 900x600 with 1 Axes>"
      ]
     },
     "metadata": {
      "needs_background": "light"
     },
     "output_type": "display_data"
    }
   ],
   "source": [
    "fig, ax = plt.subplots(dpi=150)\n",
    "ax.plot(true_trajectory[:, 0], true_trajectory[:, 1], '-')\n",
    "ax.plot(observations[:, 0], observations[:, 1], 'g.')"
   ]
  },
  {
   "cell_type": "code",
   "execution_count": null,
   "metadata": {},
   "outputs": [],
   "source": [
    "y_labels = ['$x_1$', '$x_2$', '$x_3$', '$x_4$']\n",
    "\n",
    "res_x = 1024\n",
    "res_y = 768\n",
    "dpi = 150\n",
    "w_in = res_x / dpi\n",
    "h_in = res_y / dpi\n",
    "fig, ax = plt.subplots(4, 1, dpi=dpi)\n",
    "fig.set_size_inches(w_in, h_in)\n",
    "\n",
    "for j in range(4):\n",
    "    ax[j].set_ylabel(y_labels[j])\n",
    "ax[-1].set_xlabel('$t$ (time)')\n",
    "\n",
    "for n in range(1, num_steps):\n",
    "    for j in range(4):\n",
    "        ax[j].plot(times[:n+1], true_trajectory[:n+1, j], 'b.-')\n",
    "        if j < 2:\n",
    "            ax[j].plot(times[1:n+1], observations[:n, j], 'go')"
   ]
  },
  {
   "cell_type": "markdown",
   "metadata": {},
   "source": [
    "## Questions\n",
    "\n",
    "+ Rerun the code a couple of times to observe different trajectories.\n",
    "+ Double the process noise variance $\\sigma_q^2$. What happens?\n",
    "+ Double the measurement noise variance $\\sigma_r^2$. What happens?\n",
    "+ Zero-out the control vector $\\mathbf{u}_{0:n-1}$. What happens?"
   ]
  }
 ],
 "metadata": {
  "kernelspec": {
   "display_name": "Python 3",
   "language": "python",
   "name": "python3"
  },
  "language_info": {
   "codemirror_mode": {
    "name": "ipython",
    "version": 3
   },
   "file_extension": ".py",
   "mimetype": "text/x-python",
   "name": "python",
   "nbconvert_exporter": "python",
   "pygments_lexer": "ipython3",
   "version": "3.8.8"
  }
 },
 "nbformat": 4,
 "nbformat_minor": 4
}
