{
 "cells": [
  {
   "attachments": {},
   "cell_type": "markdown",
   "metadata": {},
   "source": [
    "# Reading Activity 20 - State Space Models - Kalman Filters\n",
    "\n",
    "## Objectives\n",
    "+ Use the Kalman filter to solve the filtering problem for linear models with Gaussian process and measurement noise\n",
    "+ Learn about the problem of parameter estimation in the context of filtering\n",
    "+ Use the extended Kalman filter to solve the filtering problem for nonlinear models with Gaussian process and measurement noise\n",
    "\n",
    "Kalman filters solve the filtering problem for the case of lineat transitions and emissions with Gaussian probabilities.\n",
    "In the notation of the previous lecture, these can be expressed either as equations:\n",
    "+ **Intial conditions:**\n",
    "$$\n",
    "\\mathbf{x}_0 = \\boldsymbol{\\mu}_0 + \\mathbf{z}_0,\n",
    "$$\n",
    "where $\\boldsymbol{\\mu}_0$ is a parameter and $\\mathbf{z}_0\\sim N(\\mathbf{0},\\mathbf{V}_0)$ with $\\mathbf{V}_0$ an properly sized covariance matrix.\n",
    "+ **Transitions:**\n",
    "$$\n",
    "\\mathbf{x}_{t+1} = \\mathbf{A}\\mathbf{x}_t + \\mathbf{B}\\mathbf{u}_t + \\mathbf{z}_t,\n",
    "$$\n",
    "where $\\mathbf{A}$ and $\\mathbf{B}$ are matrices and $\\mathbf{z}_t\\sim N(\\mathbf{0},\\mathbf{Q})$ with $\\mathbf{Q}$ a properly sized covariance matrix (known as process covariance).\n",
    "+ **Emissions:**\n",
    "$$\n",
    "\\mathbf{y}_t = \\mathbf{C}\\mathbf{x}_t + \\mathbf{w}_t,\n",
    "$$\n",
    "where $\\mathbf{C}$ is a matrix and $\\mathbf{w}_t\\sim N(\\mathbf{0},\\mathbf{R})$ with $\\mathbf{R}$ a properly sized covariance matrix (known as process covariance).\n",
    "\n",
    "or as probabilities:\n",
    "+ **Initial conditions:**\n",
    "$$\n",
    "p(\\mathbf{x}_0) = N(\\mathbf{x}_0|\\boldsymbol{\\mu}_0,\\mathbf{V}_0),\n",
    "$$\n",
    "+ **Transitions:**\n",
    "$$\n",
    "p(\\mathbf{x}_{t+1}|\\mathbf{x}_t,\\mathbf{u}_t) = N(\\mathbf{x}_{t+1}|\\mathbf{A}\\mathbf{x}_t+\\mathbf{B}\\mathbf{u}_t,\\mathbf{Q}). \n",
    "$$\n",
    "+ **Emissions:**\n",
    "$$\n",
    "p(\\mathbf{y}_{t}|\\mathbf{x}_t) = N(\\mathbf{y}_t|\\mathbf{C}\\mathbf{x}_t,\\mathbf{R}).\n",
    "$$\n",
    "\n",
    "The details of the Kalman filter are rather involved.\n",
    "They are presented in the video lectures.\n",
    "If you want to dive deeper into the technical part, I suggest you read [Chapter 13.3, Bishop (2006)](https://www.springer.com/gp/book/9780387310732).\n",
    "An other very good resource, albeit rather extensive, is the open source book [Kalman and Bayesian Filters in Python](https://github.com/rlabbe/Kalman-and-Bayesian-Filters-in-Python) and in particular [Chapter 7](https://github.com/rlabbe/Kalman-and-Bayesian-Filters-in-Python/blob/master/07-Kalman-Filter-Math.ipynb)."
   ]
  }
 ],
 "metadata": {
  "kernelspec": {
   "display_name": "Python 3",
   "language": "python",
   "name": "python3"
  },
  "language_info": {
   "codemirror_mode": {
    "name": "ipython",
    "version": 3
   },
   "file_extension": ".py",
   "mimetype": "text/x-python",
   "name": "python",
   "nbconvert_exporter": "python",
   "pygments_lexer": "ipython3",
   "version": "3.7.7"
  }
 },
 "nbformat": 4,
 "nbformat_minor": 4
}
