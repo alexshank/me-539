{
 "cells": [
  {
   "cell_type": "code",
   "execution_count": null,
   "metadata": {},
   "outputs": [],
   "source": [
    "import numpy as np\n",
    "import matplotlib.pyplot as plt\n",
    "%matplotlib inline\n",
    "import seaborn as sns\n",
    "sns.set_style('white')"
   ]
  },
  {
   "cell_type": "markdown",
   "metadata": {},
   "source": [
    "# Hands-on Activity 9.3: Sampling Estimates of Predictive Quantiles\n",
    "\n",
    "## Objectives\n",
    "\n",
    "- To estimate predictive quantiles."
   ]
  },
  {
   "cell_type": "markdown",
   "metadata": {},
   "source": [
    "## Estimating predictive quantiles\n",
    "\n",
    "Take $X$ to be a random variable and $Y=g(X)$ a function of $X$.\n",
    "The $q$-predictive quantile of $Y$ is defined to be the number $\\mu_q$ for which:\n",
    "$$\n",
    "F(\\mu_q) = p(Y \\le \\mu_q) = \\frac{q}{100},\n",
    "$$\n",
    "where $F(y)$ was defined to be the CDF of $Y$.\n",
    "For example, the 50\\% quantile (also known as the median) is the value $\\mu_50$ for which:\n",
    "$$\n",
    "F(\\mu_{50}) = p(Y \\le \\mu_{50}) = \\frac{50}{100} = 0.5.\n",
    "$$\n",
    "So, to find the quantiles we need to 1) know the CDF of $Y$ and 2) solve a root finding problem with $\\mu_q$ as the unknown.\n",
    "We have already seen how one can estimate the CDF from samples, so we would only have to worry about the root finding problem.\n",
    "This is not terribly difficult to do, but since it is already implemented in ``numpy`` we are not going to bother with it.\n",
    "So, here is how you can find the empirical quantiles of $Y$ for a specific example where $g(x)$ is given by the Example 3.4 of Robert & Casella (2004):\n",
    "$$\n",
    "g(x) = \\left(\\cos(50x) + \\sin(20x)\\right)^2.\n",
    "$$\n",
    "and $X\\sim U([0,1])$."
   ]
  },
  {
   "cell_type": "code",
   "execution_count": null,
   "metadata": {},
   "outputs": [],
   "source": [
    "# define the function here:\n",
    "g = lambda x: (np.cos(50 * x) + np.sin(20 * x)) ** 2\n",
    "\n",
    "# Maximum number of samples to take\n",
    "max_n = 10000 \n",
    "# Generate samples from X\n",
    "x_samples = np.random.rand(max_n)\n",
    "# Get the corresponding Y's\n",
    "y_samples = g(x_samples)"
   ]
  },
  {
   "cell_type": "code",
   "execution_count": null,
   "metadata": {},
   "outputs": [],
   "source": [
    "# Now let's, find the 50-percent quantile\n",
    "mu_50 = np.quantile(y_samples, 50 / 100)\n",
    "print('mu_50 = {0:1.2f}'.format(mu_50))"
   ]
  },
  {
   "cell_type": "code",
   "execution_count": null,
   "metadata": {},
   "outputs": [],
   "source": [
    "# Let's find the 2.5-percent quantile\n",
    "mu_025 = np.quantile(y_samples, 2.5 / 100)\n",
    "print('mu_025 = {0:1.2f}'.format(mu_025))\n",
    "# and the 97.5-percent quantile\n",
    "mu_975 = np.quantile(y_samples, 97.5 / 100)\n",
    "print('mu_975 = {0:1.2f}'.format(mu_975))"
   ]
  },
  {
   "cell_type": "code",
   "execution_count": null,
   "metadata": {},
   "outputs": [],
   "source": [
    "# Let's now mark these quantiles on the histogram of Y:\n",
    "fig, ax = plt.subplots(dpi=150)\n",
    "ax.hist(y_samples, density=True, alpha=0.25, bins=100);\n",
    "ax.plot([mu_50], [0], 'ro', markersize=5, label='50% quantile (median)')\n",
    "ax.plot([mu_025], [0], 'bo', markersize=5, label='2.5% quantile')\n",
    "ax.plot([mu_975], [0], 'go', markersize=5, label='97.5% quantile')\n",
    "ax.set_xlabel('$y$')\n",
    "ax.set_ylabel('$p(y)$')\n",
    "plt.legend(loc='best');"
   ]
  },
  {
   "cell_type": "markdown",
   "metadata": {},
   "source": [
    "Very often, the predictive intervals are summarized using box plots:"
   ]
  },
  {
   "cell_type": "code",
   "execution_count": null,
   "metadata": {},
   "outputs": [],
   "source": [
    "fig, ax = plt.subplots(dpi=150)\n",
    "ax.boxplot(y_samples, whis=[2.5, 97.5], labels=['Y']);\n",
    "ax.set_ylabel('$y$')"
   ]
  },
  {
   "cell_type": "markdown",
   "metadata": {},
   "source": [
    "In the plot above, the $y$-axis indicates possible values, the median is shown as an orange line, the box encapsulates 50\\% of the probability around the median, and the whiskers are extreme quantiles (here selected to be the 2.5\\% and and 97.5\\% quantiles). Finally, the plot also shows the samples that fall outside the extreme quantiles."
   ]
  },
  {
   "cell_type": "markdown",
   "metadata": {},
   "source": [
    "### Questions\n",
    "+ How much probability do you have on the left of $\\mu_{50}$, i.e., what is $p(Y \\le \\mu_{50})$?\n",
    "+ How much probability do you have on the right of $\\mu_{50}$, i.e., what is $p(Y \\le \\mu_{50})$?\n",
    "+ How much probability do you have on the left of $\\mu_{2.5}$?\n",
    "+ How much probability do you have on the right of $\\mu_{97.5}$?\n",
    "+ How much probability do you have between $\\mu_{2.5}$ and $\\mu_{97.5}$?\n",
    "+ The predictive quantiles are a very nice way to summarize the probability density of a random variable with a few numbers.\n",
    "For example, you can think of $\\mu_{50}$ as a central value of $Y$.\n",
    "Often, we call the interval $[\\mu_{2.5}, \\mu_{97.5}]$ the 95\\% *predictive inteval*.\n",
    "You can interpret this interval as $Y \\in [\\mu_{2.5}, \\mu_{97.5}]$ with 95\\% probability. Find a $99$\\% predictive interval for the $Y$ of the example above."
   ]
  }
 ],
 "metadata": {
  "kernelspec": {
   "display_name": "Python 3",
   "language": "python",
   "name": "python3"
  },
  "language_info": {
   "codemirror_mode": {
    "name": "ipython",
    "version": 3
   },
   "file_extension": ".py",
   "mimetype": "text/x-python",
   "name": "python",
   "nbconvert_exporter": "python",
   "pygments_lexer": "ipython3",
   "version": "3.7.7"
  }
 },
 "nbformat": 4,
 "nbformat_minor": 4
}
